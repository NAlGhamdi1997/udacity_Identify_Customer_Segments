{
 "cells": [
  {
   "cell_type": "markdown",
   "metadata": {},
   "source": [
    "# Project: Identify Customer Segments\n",
    "\n",
    "In this project, you will apply unsupervised learning techniques to identify segments of the population that form the core customer base for a mail-order sales company in Germany. These segments can then be used to direct marketing campaigns towards audiences that will have the highest expected rate of returns. The data that you will use has been provided by our partners at Bertelsmann Arvato Analytics, and represents a real-life data science task.\n",
    "\n",
    "This notebook will help you complete this task by providing a framework within which you will perform your analysis steps. In each step of the project, you will see some text describing the subtask that you will perform, followed by one or more code cells for you to complete your work. **Feel free to add additional code and markdown cells as you go along so that you can explore everything in precise chunks.** The code cells provided in the base template will outline only the major tasks, and will usually not be enough to cover all of the minor tasks that comprise it.\n",
    "\n",
    "It should be noted that while there will be precise guidelines on how you should handle certain tasks in the project, there will also be places where an exact specification is not provided. **There will be times in the project where you will need to make and justify your own decisions on how to treat the data.** These are places where there may not be only one way to handle the data. In real-life tasks, there may be many valid ways to approach an analysis task. One of the most important things you can do is clearly document your approach so that other scientists can understand the decisions you've made.\n",
    "\n",
    "At the end of most sections, there will be a Markdown cell labeled **Discussion**. In these cells, you will report your findings for the completed section, as well as document the decisions that you made in your approach to each subtask. **Your project will be evaluated not just on the code used to complete the tasks outlined, but also your communication about your observations and conclusions at each stage.**"
   ]
  },
  {
   "cell_type": "code",
   "execution_count": 1,
   "metadata": {},
   "outputs": [
    {
     "data": {
      "text/plain": [
       "'\\nImport note: The classroom currently uses sklearn version 0.19.\\nIf you need to use an imputer, it is available in sklearn.preprocessing.Imputer,\\ninstead of sklearn.impute as in newer versions of sklearn.\\n'"
      ]
     },
     "execution_count": 1,
     "metadata": {},
     "output_type": "execute_result"
    }
   ],
   "source": [
    "# import libraries here; add more as necessary\n",
    "import numpy as np\n",
    "import pandas as pd\n",
    "import matplotlib.pyplot as plt\n",
    "import seaborn as sns\n",
    "\n",
    "# magic word for producing visualizations in notebook\n",
    "%matplotlib inline\n",
    "\n",
    "'''\n",
    "Import note: The classroom currently uses sklearn version 0.19.\n",
    "If you need to use an imputer, it is available in sklearn.preprocessing.Imputer,\n",
    "instead of sklearn.impute as in newer versions of sklearn.\n",
    "'''"
   ]
  },
  {
   "cell_type": "markdown",
   "metadata": {},
   "source": [
    "### Step 0: Load the Data\n",
    "\n",
    "There are four files associated with this project (not including this one):\n",
    "\n",
    "- `Udacity_AZDIAS_Subset.csv`: Demographics data for the general population of Germany; 891211 persons (rows) x 85 features (columns).\n",
    "- `Udacity_CUSTOMERS_Subset.csv`: Demographics data for customers of a mail-order company; 191652 persons (rows) x 85 features (columns).\n",
    "- `Data_Dictionary.md`: Detailed information file about the features in the provided datasets.\n",
    "- `AZDIAS_Feature_Summary.csv`: Summary of feature attributes for demographics data; 85 features (rows) x 4 columns\n",
    "\n",
    "Each row of the demographics files represents a single person, but also includes information outside of individuals, including information about their household, building, and neighborhood. You will use this information to cluster the general population into groups with similar demographic properties. Then, you will see how the people in the customers dataset fit into those created clusters. The hope here is that certain clusters are over-represented in the customers data, as compared to the general population; those over-represented clusters will be assumed to be part of the core userbase. This information can then be used for further applications, such as targeting for a marketing campaign.\n",
    "\n",
    "To start off with, load in the demographics data for the general population into a pandas DataFrame, and do the same for the feature attributes summary. Note for all of the `.csv` data files in this project: they're semicolon (`;`) delimited, so you'll need an additional argument in your [`read_csv()`](https://pandas.pydata.org/pandas-docs/stable/generated/pandas.read_csv.html) call to read in the data properly. Also, considering the size of the main dataset, it may take some time for it to load completely.\n",
    "\n",
    "Once the dataset is loaded, it's recommended that you take a little bit of time just browsing the general structure of the dataset and feature summary file. You'll be getting deep into the innards of the cleaning in the first major step of the project, so gaining some general familiarity can help you get your bearings."
   ]
  },
  {
   "cell_type": "code",
   "execution_count": 2,
   "metadata": {},
   "outputs": [],
   "source": [
    "# Load in the general demographics data.\n",
    "azdias = pd.read_csv(\"Udacity_AZDIAS_Subset.csv\", sep=';')\n",
    "\n",
    "# Load in the feature summary file.\n",
    "feat_info = pd.read_csv(\"AZDIAS_Feature_Summary.csv\", sep=';')\n"
   ]
  },
  {
   "cell_type": "code",
   "execution_count": 3,
   "metadata": {},
   "outputs": [
    {
     "data": {
      "text/plain": [
       "(891221, 85)"
      ]
     },
     "execution_count": 3,
     "metadata": {},
     "output_type": "execute_result"
    }
   ],
   "source": [
    "# Check the structure of the data after it's loaded (e.g. print the number of\n",
    "# rows and columns, print the first few rows).\n",
    "azdias.shape\n"
   ]
  },
  {
   "cell_type": "code",
   "execution_count": 4,
   "metadata": {},
   "outputs": [
    {
     "name": "stdout",
     "output_type": "stream",
     "text": [
      "<class 'pandas.core.frame.DataFrame'>\n",
      "RangeIndex: 891221 entries, 0 to 891220\n",
      "Data columns (total 85 columns):\n",
      "AGER_TYP                 891221 non-null int64\n",
      "ALTERSKATEGORIE_GROB     891221 non-null int64\n",
      "ANREDE_KZ                891221 non-null int64\n",
      "CJT_GESAMTTYP            886367 non-null float64\n",
      "FINANZ_MINIMALIST        891221 non-null int64\n",
      "FINANZ_SPARER            891221 non-null int64\n",
      "FINANZ_VORSORGER         891221 non-null int64\n",
      "FINANZ_ANLEGER           891221 non-null int64\n",
      "FINANZ_UNAUFFAELLIGER    891221 non-null int64\n",
      "FINANZ_HAUSBAUER         891221 non-null int64\n",
      "FINANZTYP                891221 non-null int64\n",
      "GEBURTSJAHR              891221 non-null int64\n",
      "GFK_URLAUBERTYP          886367 non-null float64\n",
      "GREEN_AVANTGARDE         891221 non-null int64\n",
      "HEALTH_TYP               891221 non-null int64\n",
      "LP_LEBENSPHASE_FEIN      886367 non-null float64\n",
      "LP_LEBENSPHASE_GROB      886367 non-null float64\n",
      "LP_FAMILIE_FEIN          886367 non-null float64\n",
      "LP_FAMILIE_GROB          886367 non-null float64\n",
      "LP_STATUS_FEIN           886367 non-null float64\n",
      "LP_STATUS_GROB           886367 non-null float64\n",
      "NATIONALITAET_KZ         891221 non-null int64\n",
      "PRAEGENDE_JUGENDJAHRE    891221 non-null int64\n",
      "RETOURTYP_BK_S           886367 non-null float64\n",
      "SEMIO_SOZ                891221 non-null int64\n",
      "SEMIO_FAM                891221 non-null int64\n",
      "SEMIO_REL                891221 non-null int64\n",
      "SEMIO_MAT                891221 non-null int64\n",
      "SEMIO_VERT               891221 non-null int64\n",
      "SEMIO_LUST               891221 non-null int64\n",
      "SEMIO_ERL                891221 non-null int64\n",
      "SEMIO_KULT               891221 non-null int64\n",
      "SEMIO_RAT                891221 non-null int64\n",
      "SEMIO_KRIT               891221 non-null int64\n",
      "SEMIO_DOM                891221 non-null int64\n",
      "SEMIO_KAEM               891221 non-null int64\n",
      "SEMIO_PFLICHT            891221 non-null int64\n",
      "SEMIO_TRADV              891221 non-null int64\n",
      "SHOPPER_TYP              891221 non-null int64\n",
      "SOHO_KZ                  817722 non-null float64\n",
      "TITEL_KZ                 817722 non-null float64\n",
      "VERS_TYP                 891221 non-null int64\n",
      "ZABEOTYP                 891221 non-null int64\n",
      "ALTER_HH                 817722 non-null float64\n",
      "ANZ_PERSONEN             817722 non-null float64\n",
      "ANZ_TITEL                817722 non-null float64\n",
      "HH_EINKOMMEN_SCORE       872873 non-null float64\n",
      "KK_KUNDENTYP             306609 non-null float64\n",
      "W_KEIT_KIND_HH           783619 non-null float64\n",
      "WOHNDAUER_2008           817722 non-null float64\n",
      "ANZ_HAUSHALTE_AKTIV      798073 non-null float64\n",
      "ANZ_HH_TITEL             794213 non-null float64\n",
      "GEBAEUDETYP              798073 non-null float64\n",
      "KONSUMNAEHE              817252 non-null float64\n",
      "MIN_GEBAEUDEJAHR         798073 non-null float64\n",
      "OST_WEST_KZ              798073 non-null object\n",
      "WOHNLAGE                 798073 non-null float64\n",
      "CAMEO_DEUG_2015          792242 non-null object\n",
      "CAMEO_DEU_2015           792242 non-null object\n",
      "CAMEO_INTL_2015          792242 non-null object\n",
      "KBA05_ANTG1              757897 non-null float64\n",
      "KBA05_ANTG2              757897 non-null float64\n",
      "KBA05_ANTG3              757897 non-null float64\n",
      "KBA05_ANTG4              757897 non-null float64\n",
      "KBA05_BAUMAX             757897 non-null float64\n",
      "KBA05_GBZ                757897 non-null float64\n",
      "BALLRAUM                 797481 non-null float64\n",
      "EWDICHTE                 797481 non-null float64\n",
      "INNENSTADT               797481 non-null float64\n",
      "GEBAEUDETYP_RASTER       798066 non-null float64\n",
      "KKK                      770025 non-null float64\n",
      "MOBI_REGIO               757897 non-null float64\n",
      "ONLINE_AFFINITAET        886367 non-null float64\n",
      "REGIOTYP                 770025 non-null float64\n",
      "KBA13_ANZAHL_PKW         785421 non-null float64\n",
      "PLZ8_ANTG1               774706 non-null float64\n",
      "PLZ8_ANTG2               774706 non-null float64\n",
      "PLZ8_ANTG3               774706 non-null float64\n",
      "PLZ8_ANTG4               774706 non-null float64\n",
      "PLZ8_BAUMAX              774706 non-null float64\n",
      "PLZ8_HHZ                 774706 non-null float64\n",
      "PLZ8_GBZ                 774706 non-null float64\n",
      "ARBEIT                   794005 non-null float64\n",
      "ORTSGR_KLS9              794005 non-null float64\n",
      "RELAT_AB                 794005 non-null float64\n",
      "dtypes: float64(49), int64(32), object(4)\n",
      "memory usage: 578.0+ MB\n"
     ]
    }
   ],
   "source": [
    "azdias.info()"
   ]
  },
  {
   "cell_type": "code",
   "execution_count": 56,
   "metadata": {},
   "outputs": [
    {
     "data": {
      "text/html": [
       "<div>\n",
       "<style scoped>\n",
       "    .dataframe tbody tr th:only-of-type {\n",
       "        vertical-align: middle;\n",
       "    }\n",
       "\n",
       "    .dataframe tbody tr th {\n",
       "        vertical-align: top;\n",
       "    }\n",
       "\n",
       "    .dataframe thead th {\n",
       "        text-align: right;\n",
       "    }\n",
       "</style>\n",
       "<table border=\"1\" class=\"dataframe\">\n",
       "  <thead>\n",
       "    <tr style=\"text-align: right;\">\n",
       "      <th></th>\n",
       "      <th>AGER_TYP</th>\n",
       "      <th>ALTERSKATEGORIE_GROB</th>\n",
       "      <th>ANREDE_KZ</th>\n",
       "      <th>CJT_GESAMTTYP</th>\n",
       "      <th>FINANZ_MINIMALIST</th>\n",
       "      <th>FINANZ_SPARER</th>\n",
       "      <th>FINANZ_VORSORGER</th>\n",
       "      <th>FINANZ_ANLEGER</th>\n",
       "      <th>FINANZ_UNAUFFAELLIGER</th>\n",
       "      <th>FINANZ_HAUSBAUER</th>\n",
       "      <th>...</th>\n",
       "      <th>PLZ8_ANTG1</th>\n",
       "      <th>PLZ8_ANTG2</th>\n",
       "      <th>PLZ8_ANTG3</th>\n",
       "      <th>PLZ8_ANTG4</th>\n",
       "      <th>PLZ8_BAUMAX</th>\n",
       "      <th>PLZ8_HHZ</th>\n",
       "      <th>PLZ8_GBZ</th>\n",
       "      <th>ARBEIT</th>\n",
       "      <th>ORTSGR_KLS9</th>\n",
       "      <th>RELAT_AB</th>\n",
       "    </tr>\n",
       "  </thead>\n",
       "  <tbody>\n",
       "    <tr>\n",
       "      <th>0</th>\n",
       "      <td>-1</td>\n",
       "      <td>2</td>\n",
       "      <td>1</td>\n",
       "      <td>2.0</td>\n",
       "      <td>3</td>\n",
       "      <td>4</td>\n",
       "      <td>3</td>\n",
       "      <td>5</td>\n",
       "      <td>5</td>\n",
       "      <td>3</td>\n",
       "      <td>...</td>\n",
       "      <td>NaN</td>\n",
       "      <td>NaN</td>\n",
       "      <td>NaN</td>\n",
       "      <td>NaN</td>\n",
       "      <td>NaN</td>\n",
       "      <td>NaN</td>\n",
       "      <td>NaN</td>\n",
       "      <td>NaN</td>\n",
       "      <td>NaN</td>\n",
       "      <td>NaN</td>\n",
       "    </tr>\n",
       "    <tr>\n",
       "      <th>1</th>\n",
       "      <td>-1</td>\n",
       "      <td>1</td>\n",
       "      <td>2</td>\n",
       "      <td>5.0</td>\n",
       "      <td>1</td>\n",
       "      <td>5</td>\n",
       "      <td>2</td>\n",
       "      <td>5</td>\n",
       "      <td>4</td>\n",
       "      <td>5</td>\n",
       "      <td>...</td>\n",
       "      <td>2.0</td>\n",
       "      <td>3.0</td>\n",
       "      <td>2.0</td>\n",
       "      <td>1.0</td>\n",
       "      <td>1.0</td>\n",
       "      <td>5.0</td>\n",
       "      <td>4.0</td>\n",
       "      <td>3.0</td>\n",
       "      <td>5.0</td>\n",
       "      <td>4.0</td>\n",
       "    </tr>\n",
       "    <tr>\n",
       "      <th>2</th>\n",
       "      <td>-1</td>\n",
       "      <td>3</td>\n",
       "      <td>2</td>\n",
       "      <td>3.0</td>\n",
       "      <td>1</td>\n",
       "      <td>4</td>\n",
       "      <td>1</td>\n",
       "      <td>2</td>\n",
       "      <td>3</td>\n",
       "      <td>5</td>\n",
       "      <td>...</td>\n",
       "      <td>3.0</td>\n",
       "      <td>3.0</td>\n",
       "      <td>1.0</td>\n",
       "      <td>0.0</td>\n",
       "      <td>1.0</td>\n",
       "      <td>4.0</td>\n",
       "      <td>4.0</td>\n",
       "      <td>3.0</td>\n",
       "      <td>5.0</td>\n",
       "      <td>2.0</td>\n",
       "    </tr>\n",
       "    <tr>\n",
       "      <th>3</th>\n",
       "      <td>2</td>\n",
       "      <td>4</td>\n",
       "      <td>2</td>\n",
       "      <td>2.0</td>\n",
       "      <td>4</td>\n",
       "      <td>2</td>\n",
       "      <td>5</td>\n",
       "      <td>2</td>\n",
       "      <td>1</td>\n",
       "      <td>2</td>\n",
       "      <td>...</td>\n",
       "      <td>2.0</td>\n",
       "      <td>2.0</td>\n",
       "      <td>2.0</td>\n",
       "      <td>0.0</td>\n",
       "      <td>1.0</td>\n",
       "      <td>3.0</td>\n",
       "      <td>4.0</td>\n",
       "      <td>2.0</td>\n",
       "      <td>3.0</td>\n",
       "      <td>3.0</td>\n",
       "    </tr>\n",
       "    <tr>\n",
       "      <th>4</th>\n",
       "      <td>-1</td>\n",
       "      <td>3</td>\n",
       "      <td>1</td>\n",
       "      <td>5.0</td>\n",
       "      <td>4</td>\n",
       "      <td>3</td>\n",
       "      <td>4</td>\n",
       "      <td>1</td>\n",
       "      <td>3</td>\n",
       "      <td>2</td>\n",
       "      <td>...</td>\n",
       "      <td>2.0</td>\n",
       "      <td>4.0</td>\n",
       "      <td>2.0</td>\n",
       "      <td>1.0</td>\n",
       "      <td>2.0</td>\n",
       "      <td>3.0</td>\n",
       "      <td>3.0</td>\n",
       "      <td>4.0</td>\n",
       "      <td>6.0</td>\n",
       "      <td>5.0</td>\n",
       "    </tr>\n",
       "  </tbody>\n",
       "</table>\n",
       "<p>5 rows × 85 columns</p>\n",
       "</div>"
      ],
      "text/plain": [
       "   AGER_TYP  ALTERSKATEGORIE_GROB  ANREDE_KZ  CJT_GESAMTTYP  \\\n",
       "0        -1                     2          1            2.0   \n",
       "1        -1                     1          2            5.0   \n",
       "2        -1                     3          2            3.0   \n",
       "3         2                     4          2            2.0   \n",
       "4        -1                     3          1            5.0   \n",
       "\n",
       "   FINANZ_MINIMALIST  FINANZ_SPARER  FINANZ_VORSORGER  FINANZ_ANLEGER  \\\n",
       "0                  3              4                 3               5   \n",
       "1                  1              5                 2               5   \n",
       "2                  1              4                 1               2   \n",
       "3                  4              2                 5               2   \n",
       "4                  4              3                 4               1   \n",
       "\n",
       "   FINANZ_UNAUFFAELLIGER  FINANZ_HAUSBAUER    ...     PLZ8_ANTG1  PLZ8_ANTG2  \\\n",
       "0                      5                 3    ...            NaN         NaN   \n",
       "1                      4                 5    ...            2.0         3.0   \n",
       "2                      3                 5    ...            3.0         3.0   \n",
       "3                      1                 2    ...            2.0         2.0   \n",
       "4                      3                 2    ...            2.0         4.0   \n",
       "\n",
       "   PLZ8_ANTG3  PLZ8_ANTG4  PLZ8_BAUMAX  PLZ8_HHZ  PLZ8_GBZ  ARBEIT  \\\n",
       "0         NaN         NaN          NaN       NaN       NaN     NaN   \n",
       "1         2.0         1.0          1.0       5.0       4.0     3.0   \n",
       "2         1.0         0.0          1.0       4.0       4.0     3.0   \n",
       "3         2.0         0.0          1.0       3.0       4.0     2.0   \n",
       "4         2.0         1.0          2.0       3.0       3.0     4.0   \n",
       "\n",
       "   ORTSGR_KLS9  RELAT_AB  \n",
       "0          NaN       NaN  \n",
       "1          5.0       4.0  \n",
       "2          5.0       2.0  \n",
       "3          3.0       3.0  \n",
       "4          6.0       5.0  \n",
       "\n",
       "[5 rows x 85 columns]"
      ]
     },
     "execution_count": 56,
     "metadata": {},
     "output_type": "execute_result"
    }
   ],
   "source": [
    "azdias.head()"
   ]
  },
  {
   "cell_type": "code",
   "execution_count": 4,
   "metadata": {},
   "outputs": [
    {
     "data": {
      "text/plain": [
       "(85, 4)"
      ]
     },
     "execution_count": 4,
     "metadata": {},
     "output_type": "execute_result"
    }
   ],
   "source": [
    "feat_info.shape"
   ]
  },
  {
   "cell_type": "code",
   "execution_count": 25,
   "metadata": {},
   "outputs": [
    {
     "data": {
      "text/html": [
       "<div>\n",
       "<style scoped>\n",
       "    .dataframe tbody tr th:only-of-type {\n",
       "        vertical-align: middle;\n",
       "    }\n",
       "\n",
       "    .dataframe tbody tr th {\n",
       "        vertical-align: top;\n",
       "    }\n",
       "\n",
       "    .dataframe thead th {\n",
       "        text-align: right;\n",
       "    }\n",
       "</style>\n",
       "<table border=\"1\" class=\"dataframe\">\n",
       "  <thead>\n",
       "    <tr style=\"text-align: right;\">\n",
       "      <th></th>\n",
       "      <th>attribute</th>\n",
       "      <th>information_level</th>\n",
       "      <th>type</th>\n",
       "      <th>missing_or_unknown</th>\n",
       "    </tr>\n",
       "  </thead>\n",
       "  <tbody>\n",
       "    <tr>\n",
       "      <th>0</th>\n",
       "      <td>AGER_TYP</td>\n",
       "      <td>person</td>\n",
       "      <td>categorical</td>\n",
       "      <td>[-1,0]</td>\n",
       "    </tr>\n",
       "    <tr>\n",
       "      <th>1</th>\n",
       "      <td>ALTERSKATEGORIE_GROB</td>\n",
       "      <td>person</td>\n",
       "      <td>ordinal</td>\n",
       "      <td>[-1,0,9]</td>\n",
       "    </tr>\n",
       "    <tr>\n",
       "      <th>2</th>\n",
       "      <td>ANREDE_KZ</td>\n",
       "      <td>person</td>\n",
       "      <td>categorical</td>\n",
       "      <td>[-1,0]</td>\n",
       "    </tr>\n",
       "    <tr>\n",
       "      <th>3</th>\n",
       "      <td>CJT_GESAMTTYP</td>\n",
       "      <td>person</td>\n",
       "      <td>categorical</td>\n",
       "      <td>[0]</td>\n",
       "    </tr>\n",
       "    <tr>\n",
       "      <th>4</th>\n",
       "      <td>FINANZ_MINIMALIST</td>\n",
       "      <td>person</td>\n",
       "      <td>ordinal</td>\n",
       "      <td>[-1]</td>\n",
       "    </tr>\n",
       "  </tbody>\n",
       "</table>\n",
       "</div>"
      ],
      "text/plain": [
       "              attribute information_level         type missing_or_unknown\n",
       "0              AGER_TYP            person  categorical             [-1,0]\n",
       "1  ALTERSKATEGORIE_GROB            person      ordinal           [-1,0,9]\n",
       "2             ANREDE_KZ            person  categorical             [-1,0]\n",
       "3         CJT_GESAMTTYP            person  categorical                [0]\n",
       "4     FINANZ_MINIMALIST            person      ordinal               [-1]"
      ]
     },
     "execution_count": 25,
     "metadata": {},
     "output_type": "execute_result"
    }
   ],
   "source": [
    "feat_info.head()"
   ]
  },
  {
   "cell_type": "code",
   "execution_count": 5,
   "metadata": {},
   "outputs": [
    {
     "name": "stdout",
     "output_type": "stream",
     "text": [
      "<class 'pandas.core.frame.DataFrame'>\n",
      "RangeIndex: 85 entries, 0 to 84\n",
      "Data columns (total 4 columns):\n",
      "attribute             85 non-null object\n",
      "information_level     85 non-null object\n",
      "type                  85 non-null object\n",
      "missing_or_unknown    85 non-null object\n",
      "dtypes: object(4)\n",
      "memory usage: 2.7+ KB\n"
     ]
    }
   ],
   "source": [
    "feat_info.info()"
   ]
  },
  {
   "cell_type": "markdown",
   "metadata": {},
   "source": [
    "> **Tip**: Add additional cells to keep everything in reasonably-sized chunks! Keyboard shortcut `esc --> a` (press escape to enter command mode, then press the 'A' key) adds a new cell before the active cell, and `esc --> b` adds a new cell after the active cell. If you need to convert an active cell to a markdown cell, use `esc --> m` and to convert to a code cell, use `esc --> y`. \n",
    "\n",
    "## Step 1: Preprocessing\n",
    "\n",
    "### Step 1.1: Assess Missing Data\n",
    "\n",
    "The feature summary file contains a summary of properties for each demographics data column. You will use this file to help you make cleaning decisions during this stage of the project. First of all, you should assess the demographics data in terms of missing data. Pay attention to the following points as you perform your analysis, and take notes on what you observe. Make sure that you fill in the **Discussion** cell with your findings and decisions at the end of each step that has one!\n",
    "\n",
    "#### Step 1.1.1: Convert Missing Value Codes to NaNs\n",
    "The fourth column of the feature attributes summary (loaded in above as `feat_info`) documents the codes from the data dictionary that indicate missing or unknown data. While the file encodes this as a list (e.g. `[-1,0]`), this will get read in as a string object. You'll need to do a little bit of parsing to make use of it to identify and clean the data. Convert data that matches a 'missing' or 'unknown' value code into a numpy NaN value. You might want to see how much data takes on a 'missing' or 'unknown' code, and how much data is naturally missing, as a point of interest.\n",
    "\n",
    "**As one more reminder, you are encouraged to add additional cells to break up your analysis into manageable chunks.**"
   ]
  },
  {
   "cell_type": "code",
   "execution_count": 5,
   "metadata": {},
   "outputs": [
    {
     "data": {
      "text/plain": [
       "4896838"
      ]
     },
     "execution_count": 5,
     "metadata": {},
     "output_type": "execute_result"
    }
   ],
   "source": [
    "# Identify missing or unknown data values and convert them to NaNs.\n",
    "\n",
    "#Check missing values number before preprocessing\n",
    "azdias.isnull().sum().sum()"
   ]
  },
  {
   "cell_type": "code",
   "execution_count": 6,
   "metadata": {},
   "outputs": [
    {
     "data": {
      "text/plain": [
       "str"
      ]
     },
     "execution_count": 6,
     "metadata": {},
     "output_type": "execute_result"
    }
   ],
   "source": [
    "type(feat_info.missing_or_unknown.loc[0])"
   ]
  },
  {
   "cell_type": "code",
   "execution_count": 7,
   "metadata": {},
   "outputs": [],
   "source": [
    "#Find missing values and replace it with NaN values\n",
    "\n",
    "# For loop to check every column and process values to be cleaning\n",
    "for i in range(azdias.shape[1]):\n",
    "    column =azdias.columns[i]\n",
    "    missing_values = feat_info.loc[i,'missing_or_unknown'].replace('[', '').replace(']', '').split(',')\n",
    "\n",
    "    #IF condition to check every values and fill it with NaN\n",
    "    if missing_values == ['']:\n",
    "        continue\n",
    "    else:\n",
    "        for value in missing_values:\n",
    "            if azdias[column].dtype =='object':\n",
    "                azdias.loc[azdias[column]==value,column]=np.nan\n",
    "            else:   \n",
    "                value=int(value)\n",
    "                azdias.loc[azdias[column]==value,column]=np.nan"
   ]
  },
  {
   "cell_type": "code",
   "execution_count": 8,
   "metadata": {},
   "outputs": [
    {
     "data": {
      "text/plain": [
       "8373929"
      ]
     },
     "execution_count": 8,
     "metadata": {},
     "output_type": "execute_result"
    }
   ],
   "source": [
    "azdias.isnull().sum().sum()"
   ]
  },
  {
   "cell_type": "code",
   "execution_count": 36,
   "metadata": {},
   "outputs": [
    {
     "data": {
      "text/html": [
       "<div>\n",
       "<style scoped>\n",
       "    .dataframe tbody tr th:only-of-type {\n",
       "        vertical-align: middle;\n",
       "    }\n",
       "\n",
       "    .dataframe tbody tr th {\n",
       "        vertical-align: top;\n",
       "    }\n",
       "\n",
       "    .dataframe thead th {\n",
       "        text-align: right;\n",
       "    }\n",
       "</style>\n",
       "<table border=\"1\" class=\"dataframe\">\n",
       "  <thead>\n",
       "    <tr style=\"text-align: right;\">\n",
       "      <th></th>\n",
       "      <th>AGER_TYP</th>\n",
       "      <th>ALTERSKATEGORIE_GROB</th>\n",
       "      <th>ANREDE_KZ</th>\n",
       "      <th>CJT_GESAMTTYP</th>\n",
       "      <th>FINANZ_MINIMALIST</th>\n",
       "      <th>FINANZ_SPARER</th>\n",
       "      <th>FINANZ_VORSORGER</th>\n",
       "      <th>FINANZ_ANLEGER</th>\n",
       "      <th>FINANZ_UNAUFFAELLIGER</th>\n",
       "      <th>FINANZ_HAUSBAUER</th>\n",
       "      <th>...</th>\n",
       "      <th>PLZ8_ANTG1</th>\n",
       "      <th>PLZ8_ANTG2</th>\n",
       "      <th>PLZ8_ANTG3</th>\n",
       "      <th>PLZ8_ANTG4</th>\n",
       "      <th>PLZ8_BAUMAX</th>\n",
       "      <th>PLZ8_HHZ</th>\n",
       "      <th>PLZ8_GBZ</th>\n",
       "      <th>ARBEIT</th>\n",
       "      <th>ORTSGR_KLS9</th>\n",
       "      <th>RELAT_AB</th>\n",
       "    </tr>\n",
       "  </thead>\n",
       "  <tbody>\n",
       "    <tr>\n",
       "      <th>0</th>\n",
       "      <td>NaN</td>\n",
       "      <td>2.0</td>\n",
       "      <td>1.0</td>\n",
       "      <td>2.0</td>\n",
       "      <td>3.0</td>\n",
       "      <td>4.0</td>\n",
       "      <td>3.0</td>\n",
       "      <td>5.0</td>\n",
       "      <td>5.0</td>\n",
       "      <td>3.0</td>\n",
       "      <td>...</td>\n",
       "      <td>NaN</td>\n",
       "      <td>NaN</td>\n",
       "      <td>NaN</td>\n",
       "      <td>NaN</td>\n",
       "      <td>NaN</td>\n",
       "      <td>NaN</td>\n",
       "      <td>NaN</td>\n",
       "      <td>NaN</td>\n",
       "      <td>NaN</td>\n",
       "      <td>NaN</td>\n",
       "    </tr>\n",
       "    <tr>\n",
       "      <th>1</th>\n",
       "      <td>NaN</td>\n",
       "      <td>1.0</td>\n",
       "      <td>2.0</td>\n",
       "      <td>5.0</td>\n",
       "      <td>1.0</td>\n",
       "      <td>5.0</td>\n",
       "      <td>2.0</td>\n",
       "      <td>5.0</td>\n",
       "      <td>4.0</td>\n",
       "      <td>5.0</td>\n",
       "      <td>...</td>\n",
       "      <td>2.0</td>\n",
       "      <td>3.0</td>\n",
       "      <td>2.0</td>\n",
       "      <td>1.0</td>\n",
       "      <td>1.0</td>\n",
       "      <td>5.0</td>\n",
       "      <td>4.0</td>\n",
       "      <td>3.0</td>\n",
       "      <td>5.0</td>\n",
       "      <td>4.0</td>\n",
       "    </tr>\n",
       "    <tr>\n",
       "      <th>2</th>\n",
       "      <td>NaN</td>\n",
       "      <td>3.0</td>\n",
       "      <td>2.0</td>\n",
       "      <td>3.0</td>\n",
       "      <td>1.0</td>\n",
       "      <td>4.0</td>\n",
       "      <td>1.0</td>\n",
       "      <td>2.0</td>\n",
       "      <td>3.0</td>\n",
       "      <td>5.0</td>\n",
       "      <td>...</td>\n",
       "      <td>3.0</td>\n",
       "      <td>3.0</td>\n",
       "      <td>1.0</td>\n",
       "      <td>0.0</td>\n",
       "      <td>1.0</td>\n",
       "      <td>4.0</td>\n",
       "      <td>4.0</td>\n",
       "      <td>3.0</td>\n",
       "      <td>5.0</td>\n",
       "      <td>2.0</td>\n",
       "    </tr>\n",
       "    <tr>\n",
       "      <th>3</th>\n",
       "      <td>2.0</td>\n",
       "      <td>4.0</td>\n",
       "      <td>2.0</td>\n",
       "      <td>2.0</td>\n",
       "      <td>4.0</td>\n",
       "      <td>2.0</td>\n",
       "      <td>5.0</td>\n",
       "      <td>2.0</td>\n",
       "      <td>1.0</td>\n",
       "      <td>2.0</td>\n",
       "      <td>...</td>\n",
       "      <td>2.0</td>\n",
       "      <td>2.0</td>\n",
       "      <td>2.0</td>\n",
       "      <td>0.0</td>\n",
       "      <td>1.0</td>\n",
       "      <td>3.0</td>\n",
       "      <td>4.0</td>\n",
       "      <td>2.0</td>\n",
       "      <td>3.0</td>\n",
       "      <td>3.0</td>\n",
       "    </tr>\n",
       "    <tr>\n",
       "      <th>4</th>\n",
       "      <td>NaN</td>\n",
       "      <td>3.0</td>\n",
       "      <td>1.0</td>\n",
       "      <td>5.0</td>\n",
       "      <td>4.0</td>\n",
       "      <td>3.0</td>\n",
       "      <td>4.0</td>\n",
       "      <td>1.0</td>\n",
       "      <td>3.0</td>\n",
       "      <td>2.0</td>\n",
       "      <td>...</td>\n",
       "      <td>2.0</td>\n",
       "      <td>4.0</td>\n",
       "      <td>2.0</td>\n",
       "      <td>1.0</td>\n",
       "      <td>2.0</td>\n",
       "      <td>3.0</td>\n",
       "      <td>3.0</td>\n",
       "      <td>4.0</td>\n",
       "      <td>6.0</td>\n",
       "      <td>5.0</td>\n",
       "    </tr>\n",
       "  </tbody>\n",
       "</table>\n",
       "<p>5 rows × 85 columns</p>\n",
       "</div>"
      ],
      "text/plain": [
       "   AGER_TYP  ALTERSKATEGORIE_GROB  ANREDE_KZ  CJT_GESAMTTYP  \\\n",
       "0       NaN                   2.0        1.0            2.0   \n",
       "1       NaN                   1.0        2.0            5.0   \n",
       "2       NaN                   3.0        2.0            3.0   \n",
       "3       2.0                   4.0        2.0            2.0   \n",
       "4       NaN                   3.0        1.0            5.0   \n",
       "\n",
       "   FINANZ_MINIMALIST  FINANZ_SPARER  FINANZ_VORSORGER  FINANZ_ANLEGER  \\\n",
       "0                3.0            4.0               3.0             5.0   \n",
       "1                1.0            5.0               2.0             5.0   \n",
       "2                1.0            4.0               1.0             2.0   \n",
       "3                4.0            2.0               5.0             2.0   \n",
       "4                4.0            3.0               4.0             1.0   \n",
       "\n",
       "   FINANZ_UNAUFFAELLIGER  FINANZ_HAUSBAUER    ...     PLZ8_ANTG1  PLZ8_ANTG2  \\\n",
       "0                    5.0               3.0    ...            NaN         NaN   \n",
       "1                    4.0               5.0    ...            2.0         3.0   \n",
       "2                    3.0               5.0    ...            3.0         3.0   \n",
       "3                    1.0               2.0    ...            2.0         2.0   \n",
       "4                    3.0               2.0    ...            2.0         4.0   \n",
       "\n",
       "   PLZ8_ANTG3  PLZ8_ANTG4  PLZ8_BAUMAX  PLZ8_HHZ  PLZ8_GBZ  ARBEIT  \\\n",
       "0         NaN         NaN          NaN       NaN       NaN     NaN   \n",
       "1         2.0         1.0          1.0       5.0       4.0     3.0   \n",
       "2         1.0         0.0          1.0       4.0       4.0     3.0   \n",
       "3         2.0         0.0          1.0       3.0       4.0     2.0   \n",
       "4         2.0         1.0          2.0       3.0       3.0     4.0   \n",
       "\n",
       "   ORTSGR_KLS9  RELAT_AB  \n",
       "0          NaN       NaN  \n",
       "1          5.0       4.0  \n",
       "2          5.0       2.0  \n",
       "3          3.0       3.0  \n",
       "4          6.0       5.0  \n",
       "\n",
       "[5 rows x 85 columns]"
      ]
     },
     "execution_count": 36,
     "metadata": {},
     "output_type": "execute_result"
    }
   ],
   "source": [
    "azdias.head()"
   ]
  },
  {
   "cell_type": "markdown",
   "metadata": {},
   "source": [
    "#### Step 1.1.2: Assess Missing Data in Each Column\n",
    "\n",
    "How much missing data is present in each column? There are a few columns that are outliers in terms of the proportion of values that are missing. You will want to use matplotlib's [`hist()`](https://matplotlib.org/api/_as_gen/matplotlib.pyplot.hist.html) function to visualize the distribution of missing value counts to find these columns. Identify and document these columns. While some of these columns might have justifications for keeping or re-encoding the data, for this project you should just remove them from the dataframe. (Feel free to make remarks about these outlier columns in the discussion, however!)\n",
    "\n",
    "For the remaining features, are there any patterns in which columns have, or share, missing data?"
   ]
  },
  {
   "cell_type": "code",
   "execution_count": 9,
   "metadata": {},
   "outputs": [
    {
     "name": "stdout",
     "output_type": "stream",
     "text": [
      "Total Missing Values is: 8373929\n",
      "Missing Values after convert it to NaNs for each column is: \n",
      " TITEL_KZ                 889061\n",
      "AGER_TYP                 685843\n",
      "KK_KUNDENTYP             584612\n",
      "KBA05_BAUMAX             476524\n",
      "GEBURTSJAHR              392318\n",
      "ALTER_HH                 310267\n",
      "REGIOTYP                 158064\n",
      "KKK                      158064\n",
      "W_KEIT_KIND_HH           147988\n",
      "KBA05_ANTG4              133324\n",
      "KBA05_GBZ                133324\n",
      "MOBI_REGIO               133324\n",
      "KBA05_ANTG1              133324\n",
      "KBA05_ANTG2              133324\n",
      "KBA05_ANTG3              133324\n",
      "PLZ8_GBZ                 116515\n",
      "PLZ8_HHZ                 116515\n",
      "PLZ8_BAUMAX              116515\n",
      "PLZ8_ANTG4               116515\n",
      "PLZ8_ANTG1               116515\n",
      "PLZ8_ANTG3               116515\n",
      "PLZ8_ANTG2               116515\n",
      "SHOPPER_TYP              111196\n",
      "VERS_TYP                 111196\n",
      "HEALTH_TYP               111196\n",
      "NATIONALITAET_KZ         108315\n",
      "PRAEGENDE_JUGENDJAHRE    108164\n",
      "KBA13_ANZAHL_PKW         105800\n",
      "ANZ_HAUSHALTE_AKTIV       99611\n",
      "CAMEO_INTL_2015           99352\n",
      "                          ...  \n",
      "RETOURTYP_BK_S             4854\n",
      "ONLINE_AFFINITAET          4854\n",
      "LP_STATUS_FEIN             4854\n",
      "LP_STATUS_GROB             4854\n",
      "GFK_URLAUBERTYP            4854\n",
      "ALTERSKATEGORIE_GROB       2881\n",
      "FINANZTYP                     0\n",
      "GREEN_AVANTGARDE              0\n",
      "FINANZ_HAUSBAUER              0\n",
      "FINANZ_UNAUFFAELLIGER         0\n",
      "FINANZ_ANLEGER                0\n",
      "FINANZ_SPARER                 0\n",
      "FINANZ_MINIMALIST             0\n",
      "ANREDE_KZ                     0\n",
      "FINANZ_VORSORGER              0\n",
      "SEMIO_FAM                     0\n",
      "SEMIO_SOZ                     0\n",
      "SEMIO_REL                     0\n",
      "SEMIO_MAT                     0\n",
      "SEMIO_VERT                    0\n",
      "SEMIO_LUST                    0\n",
      "SEMIO_ERL                     0\n",
      "SEMIO_KULT                    0\n",
      "SEMIO_RAT                     0\n",
      "SEMIO_KRIT                    0\n",
      "SEMIO_DOM                     0\n",
      "SEMIO_KAEM                    0\n",
      "SEMIO_PFLICHT                 0\n",
      "SEMIO_TRADV                   0\n",
      "ZABEOTYP                      0\n",
      "Length: 85, dtype: int64\n"
     ]
    }
   ],
   "source": [
    "# Perform an assessment of how much missing data there is in each column of the\n",
    "# dataset.\n",
    "missing_data = azdias.isnull().sum().sort_values(ascending=False)\n",
    "print('Total Missing Values is:', missing_data.sum())\n",
    "print('Missing Values after convert it to NaNs for each column is: \\n', missing_data)"
   ]
  },
  {
   "cell_type": "code",
   "execution_count": 10,
   "metadata": {},
   "outputs": [
    {
     "data": {
      "image/png": "[encoded data removed]",
      "text/plain": [
       "<matplotlib.figure.Figure at 0x7f415c428240>"
      ]
     },
     "metadata": {
      "needs_background": "light"
     },
     "output_type": "display_data"
    }
   ],
   "source": [
    "plt.hist(missing_data); #Make decision for threshold"
   ]
  },
  {
   "cell_type": "code",
   "execution_count": 11,
   "metadata": {},
   "outputs": [
    {
     "data": {
      "text/plain": [
       "<Container object of 85 artists>"
      ]
     },
     "execution_count": 11,
     "metadata": {},
     "output_type": "execute_result"
    },
    {
     "data": {
      "image/png": "[encoded data removed]",
      "text/plain": [
       "<matplotlib.figure.Figure at 0x7f415c4154e0>"
      ]
     },
     "metadata": {
      "needs_background": "light"
     },
     "output_type": "display_data"
    }
   ],
   "source": [
    "# Investigate patterns in the amount of missing data in each column.\n",
    "\n",
    "plt.figure(figsize=(16,8))\n",
    "plt.xticks(np.arange(len(missing_data))+0.5,missing_data.index,rotation='vertical')\n",
    "plt.ylabel('number of rows with missing data')\n",
    "plt.title('Bar Chart of the amount of missing data in each colum')\n",
    "plt.bar(np.arange(len(missing_data)),missing_data)\n"
   ]
  },
  {
   "cell_type": "code",
   "execution_count": 12,
   "metadata": {},
   "outputs": [],
   "source": [
    "# Remove the outlier columns from the dataset. (You'll perform other data\n",
    "# engineering tasks such as re-encoding and imputation later.)\n",
    "\n",
    "toRemove = set()\n",
    "for i in missing_data.index:\n",
    "    if(missing_data[i]>200000):\n",
    "         toRemove.add(i)\n",
    "for i in toRemove:\n",
    "    azdias.drop(i, axis=1, inplace=True)"
   ]
  },
  {
   "cell_type": "code",
   "execution_count": 13,
   "metadata": {},
   "outputs": [
    {
     "data": {
      "text/plain": [
       "{'AGER_TYP',\n",
       " 'ALTER_HH',\n",
       " 'GEBURTSJAHR',\n",
       " 'KBA05_BAUMAX',\n",
       " 'KK_KUNDENTYP',\n",
       " 'TITEL_KZ'}"
      ]
     },
     "execution_count": 13,
     "metadata": {},
     "output_type": "execute_result"
    }
   ],
   "source": [
    "toRemove"
   ]
  },
  {
   "cell_type": "code",
   "execution_count": 9,
   "metadata": {},
   "outputs": [
    {
     "data": {
      "text/html": [
       "<div>\n",
       "<style scoped>\n",
       "    .dataframe tbody tr th:only-of-type {\n",
       "        vertical-align: middle;\n",
       "    }\n",
       "\n",
       "    .dataframe tbody tr th {\n",
       "        vertical-align: top;\n",
       "    }\n",
       "\n",
       "    .dataframe thead th {\n",
       "        text-align: right;\n",
       "    }\n",
       "</style>\n",
       "<table border=\"1\" class=\"dataframe\">\n",
       "  <thead>\n",
       "    <tr style=\"text-align: right;\">\n",
       "      <th></th>\n",
       "      <th>ALTERSKATEGORIE_GROB</th>\n",
       "      <th>ANREDE_KZ</th>\n",
       "      <th>CJT_GESAMTTYP</th>\n",
       "      <th>FINANZ_MINIMALIST</th>\n",
       "      <th>FINANZ_SPARER</th>\n",
       "      <th>FINANZ_VORSORGER</th>\n",
       "      <th>FINANZ_ANLEGER</th>\n",
       "      <th>FINANZ_UNAUFFAELLIGER</th>\n",
       "      <th>FINANZ_HAUSBAUER</th>\n",
       "      <th>FINANZTYP</th>\n",
       "      <th>...</th>\n",
       "      <th>PLZ8_ANTG1</th>\n",
       "      <th>PLZ8_ANTG2</th>\n",
       "      <th>PLZ8_ANTG3</th>\n",
       "      <th>PLZ8_ANTG4</th>\n",
       "      <th>PLZ8_BAUMAX</th>\n",
       "      <th>PLZ8_HHZ</th>\n",
       "      <th>PLZ8_GBZ</th>\n",
       "      <th>ARBEIT</th>\n",
       "      <th>ORTSGR_KLS9</th>\n",
       "      <th>RELAT_AB</th>\n",
       "    </tr>\n",
       "  </thead>\n",
       "  <tbody>\n",
       "    <tr>\n",
       "      <th>0</th>\n",
       "      <td>2.0</td>\n",
       "      <td>1.0</td>\n",
       "      <td>2.0</td>\n",
       "      <td>3.0</td>\n",
       "      <td>4.0</td>\n",
       "      <td>3.0</td>\n",
       "      <td>5.0</td>\n",
       "      <td>5.0</td>\n",
       "      <td>3.0</td>\n",
       "      <td>4.0</td>\n",
       "      <td>...</td>\n",
       "      <td>NaN</td>\n",
       "      <td>NaN</td>\n",
       "      <td>NaN</td>\n",
       "      <td>NaN</td>\n",
       "      <td>NaN</td>\n",
       "      <td>NaN</td>\n",
       "      <td>NaN</td>\n",
       "      <td>NaN</td>\n",
       "      <td>NaN</td>\n",
       "      <td>NaN</td>\n",
       "    </tr>\n",
       "    <tr>\n",
       "      <th>1</th>\n",
       "      <td>1.0</td>\n",
       "      <td>2.0</td>\n",
       "      <td>5.0</td>\n",
       "      <td>1.0</td>\n",
       "      <td>5.0</td>\n",
       "      <td>2.0</td>\n",
       "      <td>5.0</td>\n",
       "      <td>4.0</td>\n",
       "      <td>5.0</td>\n",
       "      <td>1.0</td>\n",
       "      <td>...</td>\n",
       "      <td>2.0</td>\n",
       "      <td>3.0</td>\n",
       "      <td>2.0</td>\n",
       "      <td>1.0</td>\n",
       "      <td>1.0</td>\n",
       "      <td>5.0</td>\n",
       "      <td>4.0</td>\n",
       "      <td>3.0</td>\n",
       "      <td>5.0</td>\n",
       "      <td>4.0</td>\n",
       "    </tr>\n",
       "    <tr>\n",
       "      <th>2</th>\n",
       "      <td>3.0</td>\n",
       "      <td>2.0</td>\n",
       "      <td>3.0</td>\n",
       "      <td>1.0</td>\n",
       "      <td>4.0</td>\n",
       "      <td>1.0</td>\n",
       "      <td>2.0</td>\n",
       "      <td>3.0</td>\n",
       "      <td>5.0</td>\n",
       "      <td>1.0</td>\n",
       "      <td>...</td>\n",
       "      <td>3.0</td>\n",
       "      <td>3.0</td>\n",
       "      <td>1.0</td>\n",
       "      <td>0.0</td>\n",
       "      <td>1.0</td>\n",
       "      <td>4.0</td>\n",
       "      <td>4.0</td>\n",
       "      <td>3.0</td>\n",
       "      <td>5.0</td>\n",
       "      <td>2.0</td>\n",
       "    </tr>\n",
       "    <tr>\n",
       "      <th>3</th>\n",
       "      <td>4.0</td>\n",
       "      <td>2.0</td>\n",
       "      <td>2.0</td>\n",
       "      <td>4.0</td>\n",
       "      <td>2.0</td>\n",
       "      <td>5.0</td>\n",
       "      <td>2.0</td>\n",
       "      <td>1.0</td>\n",
       "      <td>2.0</td>\n",
       "      <td>6.0</td>\n",
       "      <td>...</td>\n",
       "      <td>2.0</td>\n",
       "      <td>2.0</td>\n",
       "      <td>2.0</td>\n",
       "      <td>0.0</td>\n",
       "      <td>1.0</td>\n",
       "      <td>3.0</td>\n",
       "      <td>4.0</td>\n",
       "      <td>2.0</td>\n",
       "      <td>3.0</td>\n",
       "      <td>3.0</td>\n",
       "    </tr>\n",
       "    <tr>\n",
       "      <th>4</th>\n",
       "      <td>3.0</td>\n",
       "      <td>1.0</td>\n",
       "      <td>5.0</td>\n",
       "      <td>4.0</td>\n",
       "      <td>3.0</td>\n",
       "      <td>4.0</td>\n",
       "      <td>1.0</td>\n",
       "      <td>3.0</td>\n",
       "      <td>2.0</td>\n",
       "      <td>5.0</td>\n",
       "      <td>...</td>\n",
       "      <td>2.0</td>\n",
       "      <td>4.0</td>\n",
       "      <td>2.0</td>\n",
       "      <td>1.0</td>\n",
       "      <td>2.0</td>\n",
       "      <td>3.0</td>\n",
       "      <td>3.0</td>\n",
       "      <td>4.0</td>\n",
       "      <td>6.0</td>\n",
       "      <td>5.0</td>\n",
       "    </tr>\n",
       "  </tbody>\n",
       "</table>\n",
       "<p>5 rows × 79 columns</p>\n",
       "</div>"
      ],
      "text/plain": [
       "   ALTERSKATEGORIE_GROB  ANREDE_KZ  CJT_GESAMTTYP  FINANZ_MINIMALIST  \\\n",
       "0                   2.0        1.0            2.0                3.0   \n",
       "1                   1.0        2.0            5.0                1.0   \n",
       "2                   3.0        2.0            3.0                1.0   \n",
       "3                   4.0        2.0            2.0                4.0   \n",
       "4                   3.0        1.0            5.0                4.0   \n",
       "\n",
       "   FINANZ_SPARER  FINANZ_VORSORGER  FINANZ_ANLEGER  FINANZ_UNAUFFAELLIGER  \\\n",
       "0            4.0               3.0             5.0                    5.0   \n",
       "1            5.0               2.0             5.0                    4.0   \n",
       "2            4.0               1.0             2.0                    3.0   \n",
       "3            2.0               5.0             2.0                    1.0   \n",
       "4            3.0               4.0             1.0                    3.0   \n",
       "\n",
       "   FINANZ_HAUSBAUER  FINANZTYP    ...     PLZ8_ANTG1  PLZ8_ANTG2  PLZ8_ANTG3  \\\n",
       "0               3.0        4.0    ...            NaN         NaN         NaN   \n",
       "1               5.0        1.0    ...            2.0         3.0         2.0   \n",
       "2               5.0        1.0    ...            3.0         3.0         1.0   \n",
       "3               2.0        6.0    ...            2.0         2.0         2.0   \n",
       "4               2.0        5.0    ...            2.0         4.0         2.0   \n",
       "\n",
       "   PLZ8_ANTG4  PLZ8_BAUMAX  PLZ8_HHZ  PLZ8_GBZ  ARBEIT  ORTSGR_KLS9  RELAT_AB  \n",
       "0         NaN          NaN       NaN       NaN     NaN          NaN       NaN  \n",
       "1         1.0          1.0       5.0       4.0     3.0          5.0       4.0  \n",
       "2         0.0          1.0       4.0       4.0     3.0          5.0       2.0  \n",
       "3         0.0          1.0       3.0       4.0     2.0          3.0       3.0  \n",
       "4         1.0          2.0       3.0       3.0     4.0          6.0       5.0  \n",
       "\n",
       "[5 rows x 79 columns]"
      ]
     },
     "execution_count": 9,
     "metadata": {},
     "output_type": "execute_result"
    }
   ],
   "source": [
    "azdias.head()"
   ]
  },
  {
   "cell_type": "markdown",
   "metadata": {},
   "source": [
    "#### Discussion 1.1.2: Assess Missing Data in Each Column\n",
    "\n",
    "(Double click this cell and replace this text with your own text, reporting your observations regarding the amount of missing data in each column. Are there any patterns in missing values? Which columns were removed from the dataset?)\n",
    "\n",
    "#### Answer:\n",
    "Before preprocess azdias dataset I compute null values and found it 4896838 missing values which I think it's 'NaN' or empty cells.\n",
    "But depands on feat_info dataframe there are some codes in 'missing_or_unknown' column indicates missing or unknown data. So I did for loop to detects these codes and convert it to numpy as NaN value.\n",
    "After that calculate missing values after new updates which equal 8373929 elements, and count missing values for each column and visualize it as bar chart.\n",
    "Depending in visualization I found 6 columns have big missing data, and most remain columns have missing values less than 200,000. So I take 200,000 as threshold for condition to drop columns [{'AGER_TYP','ALTER_HH','GEBURTSJAHR', 'KBA05_BAUMAX','KK_KUNDENTYP','TITEL_KZ'}]"
   ]
  },
  {
   "cell_type": "markdown",
   "metadata": {},
   "source": [
    "#### Step 1.1.3: Assess Missing Data in Each Row\n",
    "\n",
    "Now, you'll perform a similar assessment for the rows of the dataset. How much data is missing in each row? As with the columns, you should see some groups of points that have a very different numbers of missing values. Divide the data into two subsets: one for data points that are above some threshold for missing values, and a second subset for points below that threshold.\n",
    "\n",
    "In order to know what to do with the outlier rows, we should see if the distribution of data values on columns that are not missing data (or are missing very little data) are similar or different between the two groups. Select at least five of these columns and compare the distribution of values.\n",
    "- You can use seaborn's [`countplot()`](https://seaborn.pydata.org/generated/seaborn.countplot.html) function to create a bar chart of code frequencies and matplotlib's [`subplot()`](https://matplotlib.org/api/_as_gen/matplotlib.pyplot.subplot.html) function to put bar charts for the two subplots side by side.\n",
    "- To reduce repeated code, you might want to write a function that can perform this comparison, taking as one of its arguments a column to be compared.\n",
    "\n",
    "Depending on what you observe in your comparison, this will have implications on how you approach your conclusions later in the analysis. If the distributions of non-missing features look similar between the data with many missing values and the data with few or no missing values, then we could argue that simply dropping those points from the analysis won't present a major issue. On the other hand, if the data with many missing values looks very different from the data with few or no missing values, then we should make a note on those data as special. We'll revisit these data later on. **Either way, you should continue your analysis for now using just the subset of the data with few or no missing values.**"
   ]
  },
  {
   "cell_type": "code",
   "execution_count": 14,
   "metadata": {},
   "outputs": [
    {
     "name": "stdout",
     "output_type": "stream",
     "text": [
      "Total of missing values in rows as:  5035304\n",
      "Missing values of each row are: \n",
      " 643174    49\n",
      "732775    49\n",
      "472919    48\n",
      "183108    47\n",
      "139316    47\n",
      "691141    47\n",
      "691142    47\n",
      "691171    47\n",
      "691183    47\n",
      "139332    47\n",
      "691197    47\n",
      "139323    47\n",
      "691212    47\n",
      "691122    47\n",
      "139267    47\n",
      "139255    47\n",
      "139250    47\n",
      "139248    47\n",
      "139245    47\n",
      "139243    47\n",
      "691317    47\n",
      "691129    47\n",
      "691118    47\n",
      "139236    47\n",
      "139478    47\n",
      "690871    47\n",
      "690876    47\n",
      "690878    47\n",
      "690887    47\n",
      "139521    47\n",
      "          ..\n",
      "540246     0\n",
      "540244     0\n",
      "540243     0\n",
      "540242     0\n",
      "540241     0\n",
      "540240     0\n",
      "540239     0\n",
      "540269     0\n",
      "540271     0\n",
      "540300     0\n",
      "540289     0\n",
      "540299     0\n",
      "540298     0\n",
      "540296     0\n",
      "540295     0\n",
      "540293     0\n",
      "540292     0\n",
      "540291     0\n",
      "540290     0\n",
      "540287     0\n",
      "540273     0\n",
      "540286     0\n",
      "540284     0\n",
      "540283     0\n",
      "540281     0\n",
      "540280     0\n",
      "540277     0\n",
      "540275     0\n",
      "540274     0\n",
      "445610     0\n",
      "Length: 891221, dtype: int64\n"
     ]
    }
   ],
   "source": [
    "# How much data is missing in each row of the dataset?\n",
    "missing_data_rows = azdias.isnull().sum(axis=1)\n",
    "print('Total of missing values in rows as: ',missing_data_rows.sum())\n",
    "print('Missing values of each row are: \\n',missing_data_rows.sort_values(ascending=False))\n"
   ]
  },
  {
   "cell_type": "code",
   "execution_count": 16,
   "metadata": {},
   "outputs": [
    {
     "data": {
      "image/png": "[encoded data removed]",
      "text/plain": [
       "<matplotlib.figure.Figure at 0x7f415c4153c8>"
      ]
     },
     "metadata": {
      "needs_background": "light"
     },
     "output_type": "display_data"
    }
   ],
   "source": [
    "# Make decision for threshold\n",
    "plt.hist(missing_data_rows)\n",
    "plt.ylabel('Number of rows')\n",
    "plt.xlabel('Number of missing data')\n",
    "plt.show()"
   ]
  },
  {
   "cell_type": "code",
   "execution_count": 17,
   "metadata": {},
   "outputs": [],
   "source": [
    "# Write code to divide the data into two subsets based on the number of missing\n",
    "# values in each row.\n",
    "\n",
    "azdias_more = azdias.drop(missing_data_rows[missing_data_rows <= 25].index)\n",
    "azdias_less = azdias.drop(missing_data_rows[missing_data_rows > 25].index)"
   ]
  },
  {
   "cell_type": "code",
   "execution_count": 14,
   "metadata": {},
   "outputs": [],
   "source": [
    "# Compare the distribution of values for at least five columns where there are\n",
    "# no or few missing values, between the two subsets.\n",
    "def compare(column):\n",
    "    plt.figure(figsize = (10,5))\n",
    "    x1 = plt.subplot(1, 2, 1)\n",
    "    plt.title('Subset of rows has less than 25 missing values')\n",
    "    sns.countplot(azdias_less[column], ax=x1)\n",
    "    \n",
    "    x2 = plt.subplot(1, 2, 2)\n",
    "    plt.title('Subset of rows has more than 25 missing values')\n",
    "    sns.countplot(azdias_more[column], ax=x2)\n",
    "    \n",
    "    plt.subplots_adjust(wspace=0.5)\n",
    "    plt.show()\n"
   ]
  },
  {
   "cell_type": "code",
   "execution_count": 15,
   "metadata": {},
   "outputs": [
    {
     "data": {
      "image/png": "[encoded data removed]",
      "text/plain": [
       "<matplotlib.figure.Figure at 0x7ff2defa82e8>"
      ]
     },
     "metadata": {
      "needs_background": "light"
     },
     "output_type": "display_data"
    },
    {
     "data": {
      "image/png": "[encoded data removed]",
      "text/plain": [
       "<matplotlib.figure.Figure at 0x7ff2defa8780>"
      ]
     },
     "metadata": {
      "needs_background": "light"
     },
     "output_type": "display_data"
    },
    {
     "data": {
      "image/png": "[encoded data removed]",
      "text/plain": [
       "<matplotlib.figure.Figure at 0x7ff2dd784a20>"
      ]
     },
     "metadata": {
      "needs_background": "light"
     },
     "output_type": "display_data"
    },
    {
     "data": {
      "image/png": "[encoded data removed]",
      "text/plain": [
       "<matplotlib.figure.Figure at 0x7ff2dd6dc4a8>"
      ]
     },
     "metadata": {
      "needs_background": "light"
     },
     "output_type": "display_data"
    },
    {
     "data": {
      "image/png": "[encoded data removed]",
      "text/plain": [
       "<matplotlib.figure.Figure at 0x7ff2dd51dac8>"
      ]
     },
     "metadata": {
      "needs_background": "light"
     },
     "output_type": "display_data"
    }
   ],
   "source": [
    "compare('GEBAEUDETYP_RASTER')\n",
    "\n",
    "compare('NATIONALITAET_KZ')\n",
    "\n",
    "compare('ANREDE_KZ')\n",
    "\n",
    "compare('ANZ_PERSONEN')\n",
    "\n",
    "compare('GREEN_AVANTGARDE')\n",
    "\n"
   ]
  },
  {
   "cell_type": "code",
   "execution_count": 18,
   "metadata": {},
   "outputs": [],
   "source": [
    "#Keep few missing as main dataset\n",
    "azdias = azdias_less.copy()"
   ]
  },
  {
   "cell_type": "code",
   "execution_count": 19,
   "metadata": {},
   "outputs": [
    {
     "name": "stdout",
     "output_type": "stream",
     "text": [
      "<class 'pandas.core.frame.DataFrame'>\n",
      "Int64Index: 797961 entries, 1 to 891220\n",
      "Data columns (total 79 columns):\n",
      "ALTERSKATEGORIE_GROB     795160 non-null float64\n",
      "ANREDE_KZ                797961 non-null float64\n",
      "CJT_GESAMTTYP            793248 non-null float64\n",
      "FINANZ_MINIMALIST        797961 non-null float64\n",
      "FINANZ_SPARER            797961 non-null float64\n",
      "FINANZ_VORSORGER         797961 non-null float64\n",
      "FINANZ_ANLEGER           797961 non-null float64\n",
      "FINANZ_UNAUFFAELLIGER    797961 non-null float64\n",
      "FINANZ_HAUSBAUER         797961 non-null float64\n",
      "FINANZTYP                797961 non-null float64\n",
      "GFK_URLAUBERTYP          793248 non-null float64\n",
      "GREEN_AVANTGARDE         797961 non-null int64\n",
      "HEALTH_TYP               761281 non-null float64\n",
      "LP_LEBENSPHASE_FEIN      747828 non-null float64\n",
      "LP_LEBENSPHASE_GROB      750714 non-null float64\n",
      "LP_FAMILIE_FEIN          766564 non-null float64\n",
      "LP_FAMILIE_GROB          766564 non-null float64\n",
      "LP_STATUS_FEIN           793248 non-null float64\n",
      "LP_STATUS_GROB           793248 non-null float64\n",
      "NATIONALITAET_KZ         764082 non-null float64\n",
      "PRAEGENDE_JUGENDJAHRE    769252 non-null float64\n",
      "RETOURTYP_BK_S           793248 non-null float64\n",
      "SEMIO_SOZ                797961 non-null float64\n",
      "SEMIO_FAM                797961 non-null float64\n",
      "SEMIO_REL                797961 non-null float64\n",
      "SEMIO_MAT                797961 non-null float64\n",
      "SEMIO_VERT               797961 non-null float64\n",
      "SEMIO_LUST               797961 non-null float64\n",
      "SEMIO_ERL                797961 non-null float64\n",
      "SEMIO_KULT               797961 non-null float64\n",
      "SEMIO_RAT                797961 non-null float64\n",
      "SEMIO_KRIT               797961 non-null float64\n",
      "SEMIO_DOM                797961 non-null float64\n",
      "SEMIO_KAEM               797961 non-null float64\n",
      "SEMIO_PFLICHT            797961 non-null float64\n",
      "SEMIO_TRADV              797961 non-null float64\n",
      "SHOPPER_TYP              761281 non-null float64\n",
      "SOHO_KZ                  797961 non-null float64\n",
      "VERS_TYP                 761281 non-null float64\n",
      "ZABEOTYP                 797961 non-null float64\n",
      "ANZ_PERSONEN             797961 non-null float64\n",
      "ANZ_TITEL                797961 non-null float64\n",
      "HH_EINKOMMEN_SCORE       797961 non-null float64\n",
      "W_KEIT_KIND_HH           738718 non-null float64\n",
      "WOHNDAUER_2008           797961 non-null float64\n",
      "ANZ_HAUSHALTE_AKTIV      791535 non-null float64\n",
      "ANZ_HH_TITEL             794138 non-null float64\n",
      "GEBAEUDETYP              797961 non-null float64\n",
      "KONSUMNAEHE              797891 non-null float64\n",
      "MIN_GEBAEUDEJAHR         797961 non-null float64\n",
      "OST_WEST_KZ              797961 non-null object\n",
      "WOHNLAGE                 797961 non-null float64\n",
      "CAMEO_DEUG_2015          791840 non-null object\n",
      "CAMEO_DEU_2015           791840 non-null object\n",
      "CAMEO_INTL_2015          791840 non-null object\n",
      "KBA05_ANTG1              757897 non-null float64\n",
      "KBA05_ANTG2              757897 non-null float64\n",
      "KBA05_ANTG3              757897 non-null float64\n",
      "KBA05_ANTG4              757897 non-null float64\n",
      "KBA05_GBZ                757897 non-null float64\n",
      "BALLRAUM                 797369 non-null float64\n",
      "EWDICHTE                 797369 non-null float64\n",
      "INNENSTADT               797369 non-null float64\n",
      "GEBAEUDETYP_RASTER       797954 non-null float64\n",
      "KKK                      733146 non-null float64\n",
      "MOBI_REGIO               757897 non-null float64\n",
      "ONLINE_AFFINITAET        793248 non-null float64\n",
      "REGIOTYP                 733146 non-null float64\n",
      "KBA13_ANZAHL_PKW         785412 non-null float64\n",
      "PLZ8_ANTG1               774706 non-null float64\n",
      "PLZ8_ANTG2               774706 non-null float64\n",
      "PLZ8_ANTG3               774706 non-null float64\n",
      "PLZ8_ANTG4               774706 non-null float64\n",
      "PLZ8_BAUMAX              774706 non-null float64\n",
      "PLZ8_HHZ                 774706 non-null float64\n",
      "PLZ8_GBZ                 774706 non-null float64\n",
      "ARBEIT                   793734 non-null float64\n",
      "ORTSGR_KLS9              793835 non-null float64\n",
      "RELAT_AB                 793734 non-null float64\n",
      "dtypes: float64(74), int64(1), object(4)\n",
      "memory usage: 487.0+ MB\n"
     ]
    }
   ],
   "source": [
    "azdias.info()"
   ]
  },
  {
   "cell_type": "markdown",
   "metadata": {},
   "source": [
    "#### Discussion 1.1.3: Assess Missing Data in Each Row\n",
    "\n",
    "(Double-click this cell and replace this text with your own text, reporting your observations regarding missing data in rows. Are the data with lots of missing values are qualitatively different from data with few or no missing values?)\n",
    "\n",
    "#### Answer:\n",
    "I found data after visualization has a variance of distribution.\n",
    "In these columns I don't see big difference of missing data, So I delete subset of high missing values (>25) by row, and keep the subset of few missing values as main dataset (from 891221 to 797961 entries) just nearly 90K of data maybe make next steps easier."
   ]
  },
  {
   "cell_type": "markdown",
   "metadata": {},
   "source": [
    "### Step 1.2: Select and Re-Encode Features\n",
    "\n",
    "Checking for missing data isn't the only way in which you can prepare a dataset for analysis. Since the unsupervised learning techniques to be used will only work on data that is encoded numerically, you need to make a few encoding changes or additional assumptions to be able to make progress. In addition, while almost all of the values in the dataset are encoded using numbers, not all of them represent numeric values. Check the third column of the feature summary (`feat_info`) for a summary of types of measurement.\n",
    "- For numeric and interval data, these features can be kept without changes.\n",
    "- Most of the variables in the dataset are ordinal in nature. While ordinal values may technically be non-linear in spacing, make the simplifying assumption that the ordinal variables can be treated as being interval in nature (that is, kept without any changes).\n",
    "- Special handling may be necessary for the remaining two variable types: categorical, and 'mixed'.\n",
    "\n",
    "In the first two parts of this sub-step, you will perform an investigation of the categorical and mixed-type features and make a decision on each of them, whether you will keep, drop, or re-encode each. Then, in the last part, you will create a new data frame with only the selected and engineered columns.\n",
    "\n",
    "Data wrangling is often the trickiest part of the data analysis process, and there's a lot of it to be done here. But stick with it: once you're done with this step, you'll be ready to get to the machine learning parts of the project!"
   ]
  },
  {
   "cell_type": "code",
   "execution_count": 20,
   "metadata": {},
   "outputs": [
    {
     "data": {
      "text/plain": [
       "ordinal        49\n",
       "categorical    21\n",
       "mixed           7\n",
       "numeric         7\n",
       "interval        1\n",
       "Name: type, dtype: int64"
      ]
     },
     "execution_count": 20,
     "metadata": {},
     "output_type": "execute_result"
    }
   ],
   "source": [
    "# How many features are there of each data type?\n",
    "feat_info['type'].value_counts()\n"
   ]
  },
  {
   "cell_type": "code",
   "execution_count": 21,
   "metadata": {},
   "outputs": [
    {
     "data": {
      "text/plain": [
       "0             AGER_TYP\n",
       "2            ANREDE_KZ\n",
       "3        CJT_GESAMTTYP\n",
       "10           FINANZTYP\n",
       "12     GFK_URLAUBERTYP\n",
       "13    GREEN_AVANTGARDE\n",
       "17     LP_FAMILIE_FEIN\n",
       "18     LP_FAMILIE_GROB\n",
       "19      LP_STATUS_FEIN\n",
       "20      LP_STATUS_GROB\n",
       "21    NATIONALITAET_KZ\n",
       "38         SHOPPER_TYP\n",
       "39             SOHO_KZ\n",
       "40            TITEL_KZ\n",
       "41            VERS_TYP\n",
       "42            ZABEOTYP\n",
       "47        KK_KUNDENTYP\n",
       "52         GEBAEUDETYP\n",
       "55         OST_WEST_KZ\n",
       "57     CAMEO_DEUG_2015\n",
       "58      CAMEO_DEU_2015\n",
       "Name: attribute, dtype: object"
      ]
     },
     "execution_count": 21,
     "metadata": {},
     "output_type": "execute_result"
    }
   ],
   "source": [
    "#Determine Categrical Columns\n",
    "cat_col = feat_info[feat_info.type == 'categorical']['attribute']\n",
    "cat_col"
   ]
  },
  {
   "cell_type": "markdown",
   "metadata": {},
   "source": [
    "#### Step 1.2.1: Re-Encode Categorical Features\n",
    "\n",
    "For categorical data, you would ordinarily need to encode the levels as dummy variables. Depending on the number of categories, perform one of the following:\n",
    "- For binary (two-level) categoricals that take numeric values, you can keep them without needing to do anything.\n",
    "- There is one binary variable that takes on non-numeric values. For this one, you need to re-encode the values as numbers or create a dummy variable.\n",
    "- For multi-level categoricals (three or more values), you can choose to encode the values using multiple dummy variables (e.g. via [OneHotEncoder](http://scikit-learn.org/stable/modules/generated/sklearn.preprocessing.OneHotEncoder.html)), or (to keep things straightforward) just drop them from the analysis. As always, document your choices in the Discussion section."
   ]
  },
  {
   "cell_type": "code",
   "execution_count": 22,
   "metadata": {},
   "outputs": [
    {
     "name": "stdout",
     "output_type": "stream",
     "text": [
      "binary variables are:\n",
      "ANREDE_KZ [ 2.  1.]\n",
      "GREEN_AVANTGARDE [0 1]\n",
      "SOHO_KZ [ 1.  0.]\n",
      "VERS_TYP [  2.   1.  nan]\n",
      "OST_WEST_KZ ['W' 'O']\n",
      "\n",
      " multi-level variables are:\n",
      "CJT_GESAMTTYP [  5.   3.   2.   4.   1.   6.  nan]\n",
      "FINANZTYP [ 1.  6.  5.  2.  4.  3.]\n",
      "GFK_URLAUBERTYP [ 10.   1.   5.  12.   9.   3.   8.  11.   4.   2.   7.   6.  nan]\n",
      "LP_FAMILIE_FEIN [  5.   1.  nan  10.   2.   7.  11.   8.   4.   6.   9.   3.]\n",
      "LP_FAMILIE_GROB [  3.   1.  nan   5.   2.   4.]\n",
      "LP_STATUS_FEIN [  2.   3.   9.   4.   1.  10.   5.   8.   6.   7.  nan]\n",
      "LP_STATUS_GROB [  1.   2.   4.   5.   3.  nan]\n",
      "NATIONALITAET_KZ [  1.   3.   2.  nan]\n",
      "SHOPPER_TYP [  3.   2.   1.   0.  nan]\n",
      "ZABEOTYP [ 5.  3.  4.  1.  6.  2.]\n",
      "GEBAEUDETYP [ 8.  1.  3.  2.  6.  4.  5.]\n",
      "CAMEO_DEUG_2015 ['8' '4' '2' '6' '1' '9' '5' '7' nan '3']\n",
      "CAMEO_DEU_2015 ['8A' '4C' '2A' '6B' '8C' '4A' '2D' '1A' '1E' '9D' '5C' '8B' '7A' '5D' '9E'\n",
      " nan '9B' '1B' '3D' '4E' '4B' '3C' '5A' '7B' '9A' '6D' '6E' '2C' '7C' '9C'\n",
      " '7D' '5E' '1D' '8D' '6C' '6A' '5B' '4D' '3A' '2B' '7E' '3B' '6F' '5F' '1C']\n"
     ]
    }
   ],
   "source": [
    "# Assess categorical variables: which are binary, which are multi-level, and\n",
    "# which one needs to be re-encoded?\n",
    "print('binary variables are:')\n",
    "for val in cat_col:\n",
    "    if val in azdias.columns:\n",
    "        if azdias[val].nunique() == 2:\n",
    "            print(val, azdias[val].unique())\n",
    "print('\\n multi-level variables are:')\n",
    "for val in cat_col:\n",
    "    if val in azdias.columns:\n",
    "        if azdias[val].nunique() > 2:\n",
    "            print(val, azdias[val].unique())\n",
    "            #And drop it\n",
    "            azdias.drop(val, axis=1, inplace=True)"
   ]
  },
  {
   "cell_type": "code",
   "execution_count": 23,
   "metadata": {},
   "outputs": [],
   "source": [
    "# Re-encode categorical variable(s) to be kept in the analysis.\n",
    "azdias['OST_WEST_KZ'] = azdias['OST_WEST_KZ'].map({'W':1,'O':0})"
   ]
  },
  {
   "cell_type": "code",
   "execution_count": 24,
   "metadata": {},
   "outputs": [
    {
     "data": {
      "text/plain": [
       "(797961, 66)"
      ]
     },
     "execution_count": 24,
     "metadata": {},
     "output_type": "execute_result"
    }
   ],
   "source": [
    "azdias.shape"
   ]
  },
  {
   "cell_type": "markdown",
   "metadata": {},
   "source": [
    "#### Discussion 1.2.1: Re-Encode Categorical Features\n",
    "\n",
    "(Double-click this cell and replace this text with your own text, reporting your findings and decisions regarding categorical features. Which ones did you keep, which did you drop, and what engineering steps did you perform?)\n",
    "\n",
    "#### Answer:\n",
    "I count values for each data type and found there are 21 categorical columns. Most of these columns have more than 2 values (multi-level attributes). Just 5 columns have 2 values (Binary attributes) one of them is non-numeric [OST_WEST_KZ] is string then I map it to numbers 0 and 1 {'W'=1,'O'=0}.\n",
    "Also I drop multi-level variables from dataset as short cut step and remain 66 columns."
   ]
  },
  {
   "cell_type": "markdown",
   "metadata": {},
   "source": [
    "#### Step 1.2.2: Engineer Mixed-Type Features\n",
    "\n",
    "There are a handful of features that are marked as \"mixed\" in the feature summary that require special treatment in order to be included in the analysis. There are two in particular that deserve attention; the handling of the rest are up to your own choices:\n",
    "- \"PRAEGENDE_JUGENDJAHRE\" combines information on three dimensions: generation by decade, movement (mainstream vs. avantgarde), and nation (east vs. west). While there aren't enough levels to disentangle east from west, you should create two new variables to capture the other two dimensions: an interval-type variable for decade, and a binary variable for movement.\n",
    "- \"CAMEO_INTL_2015\" combines information on two axes: wealth and life stage. Break up the two-digit codes by their 'tens'-place and 'ones'-place digits into two new ordinal variables (which, for the purposes of this project, is equivalent to just treating them as their raw numeric values).\n",
    "- If you decide to keep or engineer new features around the other mixed-type features, make sure you note your steps in the Discussion section.\n",
    "\n",
    "Be sure to check `Data_Dictionary.md` for the details needed to finish these tasks."
   ]
  },
  {
   "cell_type": "code",
   "execution_count": 25,
   "metadata": {},
   "outputs": [],
   "source": [
    "# Investigate \"PRAEGENDE_JUGENDJAHRE\" and engineer two new variables.\n",
    "#Add 2 new columns for decade & movement\n",
    "azdias['DECADE']= azdias['PRAEGENDE_JUGENDJAHRE']\n",
    "azdias['MOVEMENT']= azdias['PRAEGENDE_JUGENDJAHRE']\n",
    "\n",
    "#Make dictionary for each decade (interval) : 1~>40s , 2~>50s , 3~>60s , 4~>70 , 5~>80 , 6~>90\n",
    "decade_dic = {1:1,2:1,3:2,4:2,5:3,6:3,7:3,8:4,9:4,10:5,11:5,12:5,13:5,14:6,15:6}\n",
    "\n",
    "#Make dictionary for each movement (binary) : 1 ~> mainstream , 0 ~> avantgarde\n",
    "# [1] mainstream dictionaries [1,3,5,8,10,12,14]\n",
    "# [0] avantgarde dictionaries [2,4,6,7,9,11,13,15]\n",
    "movement_dic = {1:1,2:0,3:1,4:0,5:1,6:0,7:0,8:1,9:0,10:1,11:0,12:1,13:0,14:1,15:0}\n",
    "\n",
    "#Update the new columns with specific values\n",
    "azdias['DECADE'].replace(decade_dic, inplace=True)\n",
    "azdias['MOVEMENT'].replace(movement_dic, inplace=True)\n"
   ]
  },
  {
   "cell_type": "code",
   "execution_count": 26,
   "metadata": {},
   "outputs": [],
   "source": [
    "# Investigate \"CAMEO_INTL_2015\" and engineer two new variables.\n",
    "\n",
    "#Add 2 new columns for wealth & life stage\n",
    "azdias['WEALTH']= azdias['CAMEO_INTL_2015']\n",
    "azdias['LIFE_STAGE']= azdias['CAMEO_INTL_2015']\n",
    "\n",
    "#Make dictionary for each wealth (ordinal): \n",
    "#1~> Wealthy (1*), 2~> Prosperous(2*), 3~> Comfortable(3*), 4~> Less Affluent(4*), 5~> Poorer(5*).\n",
    "wealth_dic = {11:1,12:1,13:1,14:1,15:1,21:2,22:2,23:2,24:2,25:2,31:3,32:3,33:3,34:3,35:3,\n",
    "             41:4,42:4,43:4,44:4,45:4,51:5,52:5,53:5,54:5,55:5}\n",
    "\n",
    "#Make dictionary for each life stage (ordinal):\n",
    "#1~> Pre-Family Couples & Singles (*1), 2~> Young Couples With Children (*2), \n",
    "#3~> Families With School Age Children(*3), 4~> Older Families &  Mature Couples (*4), 5~> Elders In Retirement (*5)\n",
    "life_stage_dic={11:1,21:1,31:1,41:1,51:1,12:2,22:2,32:2,42:2,52:2,13:3,23:3,33:3,43:3,53:3,\n",
    "               14:4,24:4,34:4,44:4,54:4,15:5,25:5,35:5,45:5,55:5}\n",
    "\n",
    "#Update the new columns with specific values\n",
    "azdias['WEALTH'].replace(wealth_dic, inplace=True)\n",
    "azdias['LIFE_STAGE'].replace(life_stage_dic, inplace=True)"
   ]
  },
  {
   "cell_type": "code",
   "execution_count": 27,
   "metadata": {},
   "outputs": [
    {
     "data": {
      "text/plain": [
       "(797961, 70)"
      ]
     },
     "execution_count": 27,
     "metadata": {},
     "output_type": "execute_result"
    }
   ],
   "source": [
    "azdias.shape"
   ]
  },
  {
   "cell_type": "code",
   "execution_count": 16,
   "metadata": {},
   "outputs": [
    {
     "name": "stdout",
     "output_type": "stream",
     "text": [
      "<class 'pandas.core.frame.DataFrame'>\n",
      "Int64Index: 797961 entries, 1 to 891220\n",
      "Data columns (total 70 columns):\n",
      "ALTERSKATEGORIE_GROB     795160 non-null float64\n",
      "ANREDE_KZ                797961 non-null float64\n",
      "FINANZ_MINIMALIST        797961 non-null float64\n",
      "FINANZ_SPARER            797961 non-null float64\n",
      "FINANZ_VORSORGER         797961 non-null float64\n",
      "FINANZ_ANLEGER           797961 non-null float64\n",
      "FINANZ_UNAUFFAELLIGER    797961 non-null float64\n",
      "FINANZ_HAUSBAUER         797961 non-null float64\n",
      "GREEN_AVANTGARDE         797961 non-null int64\n",
      "HEALTH_TYP               761281 non-null float64\n",
      "LP_LEBENSPHASE_FEIN      747828 non-null float64\n",
      "LP_LEBENSPHASE_GROB      750714 non-null float64\n",
      "PRAEGENDE_JUGENDJAHRE    769252 non-null float64\n",
      "RETOURTYP_BK_S           793248 non-null float64\n",
      "SEMIO_SOZ                797961 non-null float64\n",
      "SEMIO_FAM                797961 non-null float64\n",
      "SEMIO_REL                797961 non-null float64\n",
      "SEMIO_MAT                797961 non-null float64\n",
      "SEMIO_VERT               797961 non-null float64\n",
      "SEMIO_LUST               797961 non-null float64\n",
      "SEMIO_ERL                797961 non-null float64\n",
      "SEMIO_KULT               797961 non-null float64\n",
      "SEMIO_RAT                797961 non-null float64\n",
      "SEMIO_KRIT               797961 non-null float64\n",
      "SEMIO_DOM                797961 non-null float64\n",
      "SEMIO_KAEM               797961 non-null float64\n",
      "SEMIO_PFLICHT            797961 non-null float64\n",
      "SEMIO_TRADV              797961 non-null float64\n",
      "SOHO_KZ                  797961 non-null float64\n",
      "VERS_TYP                 761281 non-null float64\n",
      "ANZ_PERSONEN             797961 non-null float64\n",
      "ANZ_TITEL                797961 non-null float64\n",
      "HH_EINKOMMEN_SCORE       797961 non-null float64\n",
      "W_KEIT_KIND_HH           738718 non-null float64\n",
      "WOHNDAUER_2008           797961 non-null float64\n",
      "ANZ_HAUSHALTE_AKTIV      791535 non-null float64\n",
      "ANZ_HH_TITEL             794138 non-null float64\n",
      "KONSUMNAEHE              797891 non-null float64\n",
      "MIN_GEBAEUDEJAHR         797961 non-null float64\n",
      "OST_WEST_KZ              797961 non-null int64\n",
      "WOHNLAGE                 797961 non-null float64\n",
      "CAMEO_INTL_2015          791840 non-null object\n",
      "KBA05_ANTG1              757897 non-null float64\n",
      "KBA05_ANTG2              757897 non-null float64\n",
      "KBA05_ANTG3              757897 non-null float64\n",
      "KBA05_ANTG4              757897 non-null float64\n",
      "KBA05_GBZ                757897 non-null float64\n",
      "BALLRAUM                 797369 non-null float64\n",
      "EWDICHTE                 797369 non-null float64\n",
      "INNENSTADT               797369 non-null float64\n",
      "GEBAEUDETYP_RASTER       797954 non-null float64\n",
      "KKK                      733146 non-null float64\n",
      "MOBI_REGIO               757897 non-null float64\n",
      "ONLINE_AFFINITAET        793248 non-null float64\n",
      "REGIOTYP                 733146 non-null float64\n",
      "KBA13_ANZAHL_PKW         785412 non-null float64\n",
      "PLZ8_ANTG1               774706 non-null float64\n",
      "PLZ8_ANTG2               774706 non-null float64\n",
      "PLZ8_ANTG3               774706 non-null float64\n",
      "PLZ8_ANTG4               774706 non-null float64\n",
      "PLZ8_BAUMAX              774706 non-null float64\n",
      "PLZ8_HHZ                 774706 non-null float64\n",
      "PLZ8_GBZ                 774706 non-null float64\n",
      "ARBEIT                   793734 non-null float64\n",
      "ORTSGR_KLS9              793835 non-null float64\n",
      "RELAT_AB                 793734 non-null float64\n",
      "DECADE                   769252 non-null float64\n",
      "MOVEMENT                 769252 non-null float64\n",
      "WEALTH                   791840 non-null object\n",
      "LIFE_STAGE               791840 non-null object\n",
      "dtypes: float64(65), int64(2), object(3)\n",
      "memory usage: 432.2+ MB\n"
     ]
    }
   ],
   "source": [
    "azdias.info()"
   ]
  },
  {
   "cell_type": "markdown",
   "metadata": {},
   "source": [
    "#### Discussion 1.2.2: Engineer Mixed-Type Features\n",
    "\n",
    "(Double-click this cell and replace this text with your own text, reporting your findings and decisions regarding mixed-value features. Which ones did you keep, which did you drop, and what engineering steps did you perform?)\n",
    "\n",
    "#### Answer:\n",
    "I extract the two mixed columns to four columns. First I declare the 2 variables to new columns for ['DECADE'] and ['MOVEMENT']. Then I assign a copy of ['PRAEGENDE_JUGENDJAHRE'] column for it. \n",
    "After that I make dictionaries for each new columns and replace the columns values by dictionaries values. And th same steps for mixed-column ['CAMEO_INTL_2015'] I extract it for a new columns ['WEALTH'] and ['LIFE_STAGE']. I found in these columns pattern of digits, every tens-place indicates for certain wealth type and ones-place indicates for certain type of life stage, but I did it manually because it's a few dictionaries, but in big dictionaries I must did some effecient codes to did that.\n",
    "After that in later celss I drop mixed-features and remain after these updates 64 columns.\n"
   ]
  },
  {
   "cell_type": "markdown",
   "metadata": {},
   "source": [
    "#### Step 1.2.3: Complete Feature Selection\n",
    "\n",
    "In order to finish this step up, you need to make sure that your data frame now only has the columns that you want to keep. To summarize, the dataframe should consist of the following:\n",
    "- All numeric, interval, and ordinal type columns from the original dataset.\n",
    "- Binary categorical features (all numerically-encoded).\n",
    "- Engineered features from other multi-level categorical features and mixed features.\n",
    "\n",
    "Make sure that for any new columns that you have engineered, that you've excluded the original columns from the final dataset. Otherwise, their values will interfere with the analysis later on the project. For example, you should not keep \"PRAEGENDE_JUGENDJAHRE\", since its values won't be useful for the algorithm: only the values derived from it in the engineered features you created should be retained. As a reminder, your data should only be from **the subset with few or no missing values**."
   ]
  },
  {
   "cell_type": "code",
   "execution_count": 32,
   "metadata": {},
   "outputs": [
    {
     "data": {
      "text/plain": [
       "15      LP_LEBENSPHASE_FEIN\n",
       "16      LP_LEBENSPHASE_GROB\n",
       "22    PRAEGENDE_JUGENDJAHRE\n",
       "56                 WOHNLAGE\n",
       "59          CAMEO_INTL_2015\n",
       "64             KBA05_BAUMAX\n",
       "79              PLZ8_BAUMAX\n",
       "Name: attribute, dtype: object"
      ]
     },
     "execution_count": 32,
     "metadata": {},
     "output_type": "execute_result"
    }
   ],
   "source": [
    "# If there are other re-engineering tasks you need to perform, make sure you\n",
    "# take care of them here. (Dealing with missing data will come in step 2.1.)\n",
    "mix_col = feat_info[feat_info.type == 'mixed']['attribute']\n",
    "mix_col"
   ]
  },
  {
   "cell_type": "code",
   "execution_count": 33,
   "metadata": {},
   "outputs": [],
   "source": [
    "#Drop mixed-columns\n",
    "for col in mix_col:\n",
    "    azdias.drop(col, axis=1, inplace=True, errors='ignore')"
   ]
  },
  {
   "cell_type": "code",
   "execution_count": 34,
   "metadata": {},
   "outputs": [],
   "source": [
    "# Do whatever you need to in order to ensure that the dataframe only contains\n",
    "# the columns that should be passed to the algorithm functions.\n",
    "\n",
    "#Convert all dataframe values to float type\n",
    "azdias['WEALTH'] = azdias['WEALTH'].astype(float)\n",
    "azdias['LIFE_STAGE'] = azdias['LIFE_STAGE'].astype(float)\n",
    "azdias['GREEN_AVANTGARDE'] = azdias['GREEN_AVANTGARDE'].astype(float)\n",
    "azdias['OST_WEST_KZ'] = azdias['OST_WEST_KZ'].astype(float)"
   ]
  },
  {
   "cell_type": "code",
   "execution_count": 35,
   "metadata": {},
   "outputs": [
    {
     "data": {
      "text/plain": [
       "(797961, 64)"
      ]
     },
     "execution_count": 35,
     "metadata": {},
     "output_type": "execute_result"
    }
   ],
   "source": [
    "azdias.shape"
   ]
  },
  {
   "cell_type": "code",
   "execution_count": 24,
   "metadata": {},
   "outputs": [
    {
     "name": "stdout",
     "output_type": "stream",
     "text": [
      "<class 'pandas.core.frame.DataFrame'>\n",
      "Int64Index: 797961 entries, 1 to 891220\n",
      "Data columns (total 64 columns):\n",
      "ALTERSKATEGORIE_GROB     795160 non-null float64\n",
      "ANREDE_KZ                797961 non-null float64\n",
      "FINANZ_MINIMALIST        797961 non-null float64\n",
      "FINANZ_SPARER            797961 non-null float64\n",
      "FINANZ_VORSORGER         797961 non-null float64\n",
      "FINANZ_ANLEGER           797961 non-null float64\n",
      "FINANZ_UNAUFFAELLIGER    797961 non-null float64\n",
      "FINANZ_HAUSBAUER         797961 non-null float64\n",
      "GREEN_AVANTGARDE         797961 non-null float64\n",
      "HEALTH_TYP               761281 non-null float64\n",
      "RETOURTYP_BK_S           793248 non-null float64\n",
      "SEMIO_SOZ                797961 non-null float64\n",
      "SEMIO_FAM                797961 non-null float64\n",
      "SEMIO_REL                797961 non-null float64\n",
      "SEMIO_MAT                797961 non-null float64\n",
      "SEMIO_VERT               797961 non-null float64\n",
      "SEMIO_LUST               797961 non-null float64\n",
      "SEMIO_ERL                797961 non-null float64\n",
      "SEMIO_KULT               797961 non-null float64\n",
      "SEMIO_RAT                797961 non-null float64\n",
      "SEMIO_KRIT               797961 non-null float64\n",
      "SEMIO_DOM                797961 non-null float64\n",
      "SEMIO_KAEM               797961 non-null float64\n",
      "SEMIO_PFLICHT            797961 non-null float64\n",
      "SEMIO_TRADV              797961 non-null float64\n",
      "SOHO_KZ                  797961 non-null float64\n",
      "VERS_TYP                 761281 non-null float64\n",
      "ANZ_PERSONEN             797961 non-null float64\n",
      "ANZ_TITEL                797961 non-null float64\n",
      "HH_EINKOMMEN_SCORE       797961 non-null float64\n",
      "W_KEIT_KIND_HH           738718 non-null float64\n",
      "WOHNDAUER_2008           797961 non-null float64\n",
      "ANZ_HAUSHALTE_AKTIV      791535 non-null float64\n",
      "ANZ_HH_TITEL             794138 non-null float64\n",
      "KONSUMNAEHE              797891 non-null float64\n",
      "MIN_GEBAEUDEJAHR         797961 non-null float64\n",
      "OST_WEST_KZ              797961 non-null float64\n",
      "KBA05_ANTG1              757897 non-null float64\n",
      "KBA05_ANTG2              757897 non-null float64\n",
      "KBA05_ANTG3              757897 non-null float64\n",
      "KBA05_ANTG4              757897 non-null float64\n",
      "KBA05_GBZ                757897 non-null float64\n",
      "BALLRAUM                 797369 non-null float64\n",
      "EWDICHTE                 797369 non-null float64\n",
      "INNENSTADT               797369 non-null float64\n",
      "GEBAEUDETYP_RASTER       797954 non-null float64\n",
      "KKK                      733146 non-null float64\n",
      "MOBI_REGIO               757897 non-null float64\n",
      "ONLINE_AFFINITAET        793248 non-null float64\n",
      "REGIOTYP                 733146 non-null float64\n",
      "KBA13_ANZAHL_PKW         785412 non-null float64\n",
      "PLZ8_ANTG1               774706 non-null float64\n",
      "PLZ8_ANTG2               774706 non-null float64\n",
      "PLZ8_ANTG3               774706 non-null float64\n",
      "PLZ8_ANTG4               774706 non-null float64\n",
      "PLZ8_HHZ                 774706 non-null float64\n",
      "PLZ8_GBZ                 774706 non-null float64\n",
      "ARBEIT                   793734 non-null float64\n",
      "ORTSGR_KLS9              793835 non-null float64\n",
      "RELAT_AB                 793734 non-null float64\n",
      "DECADE                   769252 non-null float64\n",
      "MOVEMENT                 769252 non-null float64\n",
      "WEALTH                   791840 non-null float64\n",
      "LIFE_STAGE               791840 non-null float64\n",
      "dtypes: float64(64)\n",
      "memory usage: 395.7 MB\n"
     ]
    }
   ],
   "source": [
    "azdias.info()"
   ]
  },
  {
   "cell_type": "markdown",
   "metadata": {},
   "source": [
    "### Step 1.3: Create a Cleaning Function\n",
    "\n",
    "Even though you've finished cleaning up the general population demographics data, it's important to look ahead to the future and realize that you'll need to perform the same cleaning steps on the customer demographics data. In this substep, complete the function below to execute the main feature selection, encoding, and re-engineering steps you performed above. Then, when it comes to looking at the customer data in Step 3, you can just run this function on that DataFrame to get the trimmed dataset in a single step."
   ]
  },
  {
   "cell_type": "code",
   "execution_count": 3,
   "metadata": {},
   "outputs": [],
   "source": [
    "def clean_data(df):\n",
    "    \"\"\"\n",
    "    Perform feature trimming, re-encoding, and engineering for demographics\n",
    "    data\n",
    "    \n",
    "    INPUT: Demographics DataFrame\n",
    "    OUTPUT: Trimmed and cleaned demographics DataFrame\n",
    "    \"\"\"\n",
    "    \n",
    "    # Put in code here to execute all main cleaning steps:\n",
    "    # convert missing value codes into NaNs, ...\n",
    "    \n",
    "    # For loop to check every column and process values to be cleaning\n",
    "    for i in range(df.shape[1]):\n",
    "        column =df.columns[i]\n",
    "        missing_values = feat_info.loc[i,'missing_or_unknown'].replace('[', '').replace(']', '').split(',')\n",
    "        \n",
    "        #IF condition to check every values and fill it with NaN\n",
    "        if missing_values == ['']:\n",
    "            continue\n",
    "        else:\n",
    "            for value in missing_values:\n",
    "                if df[column].dtype =='object':\n",
    "                    df.loc[df[column]==value,column]=np.nan\n",
    "                else:   \n",
    "                    value=int(value)\n",
    "                    df.loc[df[column]==value,column]=np.nan\n",
    "    #missind data assignment\n",
    "    missing_data = df.isnull().sum()\n",
    "    \n",
    "    # remove selected columns and rows, ...\n",
    "    # Remove the outlier columns from the dataset.\n",
    "    df.drop(['AGER_TYP','ALTER_HH','GEBURTSJAHR','KBA05_BAUMAX','KK_KUNDENTYP','TITEL_KZ'], axis=1, inplace=True)\n",
    "    \n",
    "    #Remove selected rows.\n",
    "    missing_data_rows = df.isnull().sum(axis=1)\n",
    "    \n",
    "    df_more = df.drop(missing_data_rows[missing_data_rows <= 25].index)\n",
    "    df_less = df.drop(missing_data_rows[missing_data_rows > 25].index)\n",
    "    \n",
    "    df = df_less.copy()\n",
    "    \n",
    "    # select, re-encode, and engineer column values.\n",
    "    cat_col = feat_info[feat_info.type == 'categorical']['attribute']\n",
    "    \n",
    "    print('binary variables are:')\n",
    "    for val in cat_col:\n",
    "        if val in df.columns:\n",
    "            if df[val].nunique() == 2:\n",
    "                print(val, df[val].unique())\n",
    "    print('\\n multi-level variables are:')\n",
    "    for val in cat_col:\n",
    "        if val in df.columns:\n",
    "            if df[val].nunique() > 2:\n",
    "                print(val, df[val].unique())\n",
    "                #And drop it\n",
    "                df.drop(val, axis=1, inplace=True)\n",
    "    \n",
    "    # Re-encode categorical variable(s) to be kept in the analysis.\n",
    "    df['OST_WEST_KZ'] = df['OST_WEST_KZ'].map({'W':1,'O':0})\n",
    "    \n",
    "    \n",
    "    # Investigate \"PRAEGENDE_JUGENDJAHRE\" and engineer two new variables.\n",
    "    df['DECADE']= df['PRAEGENDE_JUGENDJAHRE']\n",
    "    df['MOVEMENT']= df['PRAEGENDE_JUGENDJAHRE']\n",
    "    decade_dic = {1:1,2:1,3:2,4:2,5:3,6:3,7:3,8:4,9:4,10:5,11:5,12:5,13:5,14:6,15:6}\n",
    "    movement_dic = {1:1,2:0,3:1,4:0,5:1,6:0,7:0,8:1,9:0,10:1,11:0,12:1,13:0,14:1,15:0}\n",
    "    df['DECADE'].replace(decade_dic, inplace=True)\n",
    "    df['MOVEMENT'].replace(movement_dic, inplace=True)\n",
    "    \n",
    "    # Investigate \"CAMEO_INTL_2015\" and engineer two new variables.\n",
    "    df['WEALTH']= df['CAMEO_INTL_2015']\n",
    "    df['LIFE_STAGE']= df['CAMEO_INTL_2015']\n",
    "    wealth_dic = {11:1,12:1,13:1,14:1,15:1,21:2,22:2,23:2,24:2,25:2,31:3,32:3,33:3,34:3,35:3,\n",
    "             41:4,42:4,43:4,44:4,45:4,51:5,52:5,53:5,54:5,55:5}\n",
    "    life_stage_dic={11:1,21:1,31:1,41:1,51:1,12:2,22:2,32:2,42:2,52:2,13:3,23:3,33:3,43:3,53:3,\n",
    "               14:4,24:4,34:4,44:4,54:4,15:5,25:5,35:5,45:5,55:5}\n",
    "    df['WEALTH'].replace(wealth_dic, inplace=True)\n",
    "    df['LIFE_STAGE'].replace(life_stage_dic, inplace=True)\n",
    "    \n",
    "    #Drop mixed-columns\n",
    "    #df.drop(['PRAEGENDE_JUGENDJAHRE', 'CAMEO_INTL_2015'], axis=1, inplace=True)\n",
    "    mix_col = feat_info[feat_info['type']=='mixed']['attribute']\n",
    "    print('mixed columns are: \\n',mix_col)\n",
    "    for col in mix_col:\n",
    "        df.drop(col, axis=1, inplace=True, errors='ignore')\n",
    "    \n",
    "    #Convert all dataframe values to float type\n",
    "    df['WEALTH'] = df['WEALTH'].astype(float)\n",
    "    df['LIFE_STAGE'] = df['LIFE_STAGE'].astype(float)\n",
    "    df['GREEN_AVANTGARDE'] = df['GREEN_AVANTGARDE'].astype(float)\n",
    "    df['OST_WEST_KZ'] = df['OST_WEST_KZ'].astype(float)\n",
    "    \n",
    "    # Return the cleaned dataframe.\n",
    "    return df\n",
    "    "
   ]
  },
  {
   "cell_type": "code",
   "execution_count": 4,
   "metadata": {},
   "outputs": [
    {
     "name": "stdout",
     "output_type": "stream",
     "text": [
      "binary variables are:\n",
      "ANREDE_KZ [ 2.  1.]\n",
      "GREEN_AVANTGARDE [0 1]\n",
      "SOHO_KZ [ 1.  0.]\n",
      "VERS_TYP [  2.   1.  nan]\n",
      "OST_WEST_KZ ['W' 'O']\n",
      "\n",
      " multi-level variables are:\n",
      "CJT_GESAMTTYP [  5.   3.   2.   4.   1.   6.  nan]\n",
      "FINANZTYP [ 1.  6.  5.  2.  4.  3.]\n",
      "GFK_URLAUBERTYP [ 10.   1.   5.  12.   9.   3.   8.  11.   4.   2.   7.   6.  nan]\n",
      "LP_FAMILIE_FEIN [  5.   1.  nan  10.   2.   7.  11.   8.   4.   6.   9.   3.]\n",
      "LP_FAMILIE_GROB [  3.   1.  nan   5.   2.   4.]\n",
      "LP_STATUS_FEIN [  2.   3.   9.   4.   1.  10.   5.   8.   6.   7.  nan]\n",
      "LP_STATUS_GROB [  1.   2.   4.   5.   3.  nan]\n",
      "NATIONALITAET_KZ [  1.   3.   2.  nan]\n",
      "SHOPPER_TYP [  3.   2.   1.   0.  nan]\n",
      "ZABEOTYP [ 5.  3.  4.  1.  6.  2.]\n",
      "GEBAEUDETYP [ 8.  1.  3.  2.  6.  4.  5.]\n",
      "CAMEO_DEUG_2015 ['8' '4' '2' '6' '1' '9' '5' '7' nan '3']\n",
      "CAMEO_DEU_2015 ['8A' '4C' '2A' '6B' '8C' '4A' '2D' '1A' '1E' '9D' '5C' '8B' '7A' '5D' '9E'\n",
      " nan '9B' '1B' '3D' '4E' '4B' '3C' '5A' '7B' '9A' '6D' '6E' '2C' '7C' '9C'\n",
      " '7D' '5E' '1D' '8D' '6C' '6A' '5B' '4D' '3A' '2B' '7E' '3B' '6F' '5F' '1C']\n",
      "mixed columns are: \n",
      " 15      LP_LEBENSPHASE_FEIN\n",
      "16      LP_LEBENSPHASE_GROB\n",
      "22    PRAEGENDE_JUGENDJAHRE\n",
      "56                 WOHNLAGE\n",
      "59          CAMEO_INTL_2015\n",
      "64             KBA05_BAUMAX\n",
      "79              PLZ8_BAUMAX\n",
      "Name: attribute, dtype: object\n"
     ]
    }
   ],
   "source": [
    "clean_azdias = clean_data(azdias)"
   ]
  },
  {
   "cell_type": "code",
   "execution_count": 5,
   "metadata": {},
   "outputs": [
    {
     "data": {
      "text/plain": [
       "(797961, 64)"
      ]
     },
     "execution_count": 5,
     "metadata": {},
     "output_type": "execute_result"
    }
   ],
   "source": [
    "clean_azdias.shape"
   ]
  },
  {
   "cell_type": "code",
   "execution_count": 7,
   "metadata": {},
   "outputs": [
    {
     "name": "stdout",
     "output_type": "stream",
     "text": [
      "<class 'pandas.core.frame.DataFrame'>\n",
      "Int64Index: 797961 entries, 1 to 891220\n",
      "Data columns (total 64 columns):\n",
      "ALTERSKATEGORIE_GROB     795160 non-null float64\n",
      "ANREDE_KZ                797961 non-null float64\n",
      "FINANZ_MINIMALIST        797961 non-null float64\n",
      "FINANZ_SPARER            797961 non-null float64\n",
      "FINANZ_VORSORGER         797961 non-null float64\n",
      "FINANZ_ANLEGER           797961 non-null float64\n",
      "FINANZ_UNAUFFAELLIGER    797961 non-null float64\n",
      "FINANZ_HAUSBAUER         797961 non-null float64\n",
      "GREEN_AVANTGARDE         797961 non-null float64\n",
      "HEALTH_TYP               761281 non-null float64\n",
      "RETOURTYP_BK_S           793248 non-null float64\n",
      "SEMIO_SOZ                797961 non-null float64\n",
      "SEMIO_FAM                797961 non-null float64\n",
      "SEMIO_REL                797961 non-null float64\n",
      "SEMIO_MAT                797961 non-null float64\n",
      "SEMIO_VERT               797961 non-null float64\n",
      "SEMIO_LUST               797961 non-null float64\n",
      "SEMIO_ERL                797961 non-null float64\n",
      "SEMIO_KULT               797961 non-null float64\n",
      "SEMIO_RAT                797961 non-null float64\n",
      "SEMIO_KRIT               797961 non-null float64\n",
      "SEMIO_DOM                797961 non-null float64\n",
      "SEMIO_KAEM               797961 non-null float64\n",
      "SEMIO_PFLICHT            797961 non-null float64\n",
      "SEMIO_TRADV              797961 non-null float64\n",
      "SOHO_KZ                  797961 non-null float64\n",
      "VERS_TYP                 761281 non-null float64\n",
      "ANZ_PERSONEN             797961 non-null float64\n",
      "ANZ_TITEL                797961 non-null float64\n",
      "HH_EINKOMMEN_SCORE       797961 non-null float64\n",
      "W_KEIT_KIND_HH           738718 non-null float64\n",
      "WOHNDAUER_2008           797961 non-null float64\n",
      "ANZ_HAUSHALTE_AKTIV      791535 non-null float64\n",
      "ANZ_HH_TITEL             794138 non-null float64\n",
      "KONSUMNAEHE              797891 non-null float64\n",
      "MIN_GEBAEUDEJAHR         797961 non-null float64\n",
      "OST_WEST_KZ              797961 non-null float64\n",
      "KBA05_ANTG1              757897 non-null float64\n",
      "KBA05_ANTG2              757897 non-null float64\n",
      "KBA05_ANTG3              757897 non-null float64\n",
      "KBA05_ANTG4              757897 non-null float64\n",
      "KBA05_GBZ                757897 non-null float64\n",
      "BALLRAUM                 797369 non-null float64\n",
      "EWDICHTE                 797369 non-null float64\n",
      "INNENSTADT               797369 non-null float64\n",
      "GEBAEUDETYP_RASTER       797954 non-null float64\n",
      "KKK                      733146 non-null float64\n",
      "MOBI_REGIO               757897 non-null float64\n",
      "ONLINE_AFFINITAET        793248 non-null float64\n",
      "REGIOTYP                 733146 non-null float64\n",
      "KBA13_ANZAHL_PKW         785412 non-null float64\n",
      "PLZ8_ANTG1               774706 non-null float64\n",
      "PLZ8_ANTG2               774706 non-null float64\n",
      "PLZ8_ANTG3               774706 non-null float64\n",
      "PLZ8_ANTG4               774706 non-null float64\n",
      "PLZ8_HHZ                 774706 non-null float64\n",
      "PLZ8_GBZ                 774706 non-null float64\n",
      "ARBEIT                   793734 non-null float64\n",
      "ORTSGR_KLS9              793835 non-null float64\n",
      "RELAT_AB                 793734 non-null float64\n",
      "DECADE                   769252 non-null float64\n",
      "MOVEMENT                 769252 non-null float64\n",
      "WEALTH                   791840 non-null float64\n",
      "LIFE_STAGE               791840 non-null float64\n",
      "dtypes: float64(64)\n",
      "memory usage: 395.7 MB\n"
     ]
    }
   ],
   "source": [
    "clean_azdias.info()"
   ]
  },
  {
   "cell_type": "markdown",
   "metadata": {},
   "source": [
    "## Step 2: Feature Transformation\n",
    "\n",
    "### Step 2.1: Apply Feature Scaling\n",
    "\n",
    "Before we apply dimensionality reduction techniques to the data, we need to perform feature scaling so that the principal component vectors are not influenced by the natural differences in scale for features. Starting from this part of the project, you'll want to keep an eye on the [API reference page for sklearn](http://scikit-learn.org/stable/modules/classes.html) to help you navigate to all of the classes and functions that you'll need. In this substep, you'll need to check the following:\n",
    "\n",
    "- sklearn requires that data not have missing values in order for its estimators to work properly. So, before applying the scaler to your data, make sure that you've cleaned the DataFrame of the remaining missing values. This can be as simple as just removing all data points with missing data, or applying an [Imputer](http://scikit-learn.org/stable/modules/generated/sklearn.preprocessing.Imputer.html) to replace all missing values. You might also try a more complicated procedure where you temporarily remove missing values in order to compute the scaling parameters before re-introducing those missing values and applying imputation. Think about how much missing data you have and what possible effects each approach might have on your analysis, and justify your decision in the discussion section below.\n",
    "- For the actual scaling function, a [StandardScaler](http://scikit-learn.org/stable/modules/generated/sklearn.preprocessing.StandardScaler.html) instance is suggested, scaling each feature to mean 0 and standard deviation 1.\n",
    "- For these classes, you can make use of the `.fit_transform()` method to both fit a procedure to the data as well as apply the transformation to the data at the same time. Don't forget to keep the fit sklearn objects handy, since you'll be applying them to the customer demographics data towards the end of the project."
   ]
  },
  {
   "cell_type": "code",
   "execution_count": 6,
   "metadata": {},
   "outputs": [],
   "source": [
    "# If you've not yet cleaned the dataset of all NaN values, then investigate and\n",
    "# do that now.\n",
    "from sklearn.preprocessing import Imputer\n",
    "imputer = Imputer(missing_values='NaN', strategy='mean', axis=0 ) ##Modified\n"
   ]
  },
  {
   "cell_type": "code",
   "execution_count": 7,
   "metadata": {},
   "outputs": [
    {
     "data": {
      "text/plain": [
       "0"
      ]
     },
     "execution_count": 7,
     "metadata": {},
     "output_type": "execute_result"
    }
   ],
   "source": [
    "imputed_azdias = pd.DataFrame(imputer.fit_transform(clean_azdias), columns=clean_azdias.columns)\n",
    "imputed_azdias.isnull().sum().sum()"
   ]
  },
  {
   "cell_type": "code",
   "execution_count": 8,
   "metadata": {},
   "outputs": [
    {
     "data": {
      "text/plain": [
       "array([[-1.76603436,  0.95793327, -1.4946051 , ...,  0.55315066,\n",
       "         1.10940443,  1.10940443],\n",
       "       [ 0.20124978,  0.95793327, -1.4946051 , ..., -1.87529501,\n",
       "        -0.82240358, -0.82240358],\n",
       "       [ 1.18489186,  0.95793327,  0.68315642, ...,  0.55315066,\n",
       "        -1.68098491, -1.68098491],\n",
       "       ..., \n",
       "       [-0.78239229,  0.95793327, -0.76868459, ...,  0.55315066,\n",
       "        -0.82240358, -0.82240358],\n",
       "       [-1.76603436, -1.04391405, -1.4946051 , ...,  0.55315066,\n",
       "         1.10940443,  1.10940443],\n",
       "       [ 1.18489186, -1.04391405,  0.68315642, ...,  0.55315066,\n",
       "         0.53701687,  0.53701687]])"
      ]
     },
     "execution_count": 8,
     "metadata": {},
     "output_type": "execute_result"
    }
   ],
   "source": [
    "# Apply feature scaling to the general population demographics data.\n",
    "from sklearn.preprocessing import StandardScaler\n",
    "ss = StandardScaler()\n",
    "#ss_df = pd.DataFrame(ss.fit_transform(imputed_azdias), columns=imputed_azdias.columns)\n",
    "## Modified\n",
    "ss.fit(imputed_azdias)\n",
    "ss_df = ss.transform(imputed_azdias)\n",
    "\n",
    "ss_df"
   ]
  },
  {
   "cell_type": "markdown",
   "metadata": {},
   "source": [
    "### Discussion 2.1: Apply Feature Scaling\n",
    "\n",
    "(Double-click this cell and replace this text with your own text, reporting your decisions regarding feature scaling.)\n",
    "\n",
    "#### Answer:\n",
    "After dataset cleaned by clean function which created, I use Imputer to confirm all missing data are removed.\n",
    "I use 'mean' strategy to fill 'NaN' values with mean of data to ensure the data is at an approximate level.\n",
    "After that scaling each feature to mean 0 and standard deviation 1 by StandardScaler()."
   ]
  },
  {
   "cell_type": "markdown",
   "metadata": {},
   "source": [
    "### Step 2.2: Perform Dimensionality Reduction\n",
    "\n",
    "On your scaled data, you are now ready to apply dimensionality reduction techniques.\n",
    "\n",
    "- Use sklearn's [PCA](http://scikit-learn.org/stable/modules/generated/sklearn.decomposition.PCA.html) class to apply principal component analysis on the data, thus finding the vectors of maximal variance in the data. To start, you should not set any parameters (so all components are computed) or set a number of components that is at least half the number of features (so there's enough features to see the general trend in variability).\n",
    "- Check out the ratio of variance explained by each principal component as well as the cumulative variance explained. Try plotting the cumulative or sequential values using matplotlib's [`plot()`](https://matplotlib.org/api/_as_gen/matplotlib.pyplot.plot.html) function. Based on what you find, select a value for the number of transformed features you'll retain for the clustering part of the project.\n",
    "- Once you've made a choice for the number of components to keep, make sure you re-fit a PCA instance to perform the decided-on transformation."
   ]
  },
  {
   "cell_type": "code",
   "execution_count": 9,
   "metadata": {},
   "outputs": [],
   "source": [
    "# Apply PCA to the data.\n",
    "from sklearn.decomposition import PCA\n",
    "pca = PCA()\n",
    "azdias_pca = pca.fit_transform(ss_df)"
   ]
  },
  {
   "cell_type": "code",
   "execution_count": 10,
   "metadata": {},
   "outputs": [],
   "source": [
    "# Investigate the variance accounted for by each principal component.\n",
    "def scree_plot(pca):\n",
    "    '''\n",
    "    Creates a scree plot associated with the principal components \n",
    "    \n",
    "    INPUT: pca - the result of instantian of PCA in scikit learn\n",
    "            \n",
    "    OUTPUT:\n",
    "            None\n",
    "    '''\n",
    "    num_components=len(pca.explained_variance_ratio_)\n",
    "    ind = np.arange(num_components)\n",
    "    vals = pca.explained_variance_ratio_\n",
    " \n",
    "    plt.figure(figsize=(20, 6))\n",
    "    ax = plt.subplot(111)\n",
    "    cumvals = np.cumsum(vals)\n",
    "    ax.bar(ind, vals)\n",
    "    ax.plot(ind, cumvals)\n",
    "    for i in range(num_components):\n",
    "        ax.annotate(r\"%s%%\" % ((str(vals[i]*100)[:4])), (ind[i]+0.2, vals[i]), va=\"bottom\", ha=\"center\", fontsize=12)\n",
    " \n",
    "    ax.xaxis.set_tick_params(width=0)\n",
    "    ax.yaxis.set_tick_params(width=2, length=12)\n",
    " \n",
    "    ax.set_xlabel(\"Principal Component\")\n",
    "    ax.set_ylabel(\"Variance Explained (%)\")\n",
    "    plt.title('Explained Variance Per Principal Component')\n"
   ]
  },
  {
   "cell_type": "code",
   "execution_count": 11,
   "metadata": {},
   "outputs": [
    {
     "data": {
      "image/png": "[encoded data removed]",
      "text/plain": [
       "<matplotlib.figure.Figure at 0x7f126182e748>"
      ]
     },
     "metadata": {
      "needs_background": "light"
     },
     "output_type": "display_data"
    }
   ],
   "source": [
    "scree_plot(pca)"
   ]
  },
  {
   "cell_type": "code",
   "execution_count": 12,
   "metadata": {},
   "outputs": [
    {
     "data": {
      "text/plain": [
       "1.0000000000000002"
      ]
     },
     "execution_count": 12,
     "metadata": {},
     "output_type": "execute_result"
    }
   ],
   "source": [
    "pca.explained_variance_ratio_[:].sum()"
   ]
  },
  {
   "cell_type": "code",
   "execution_count": 10,
   "metadata": {},
   "outputs": [],
   "source": [
    "# Re-apply PCA to the data while selecting for number of components to retain.\n",
    "pca = PCA(n_components=30)\n",
    "pca.fit(ss_df) ## Modified\n",
    "pca_df = pca.transform(ss_df)"
   ]
  },
  {
   "cell_type": "code",
   "execution_count": 11,
   "metadata": {},
   "outputs": [
    {
     "data": {
      "text/plain": [
       "0.88611212137348139"
      ]
     },
     "execution_count": 11,
     "metadata": {},
     "output_type": "execute_result"
    }
   ],
   "source": [
    "pca.explained_variance_ratio_[:].sum()"
   ]
  },
  {
   "cell_type": "markdown",
   "metadata": {},
   "source": [
    "### Discussion 2.2: Perform Dimensionality Reduction\n",
    "\n",
    "(Double-click this cell and replace this text with your own text, reporting your findings and decisions regarding dimensionality reduction. How many principal components / transformed features are you retaining for the next step of the analysis?)\n",
    "\n",
    "#### Answer:\n",
    "I perform PCA to scaled data. Then I plotting these principal components with variance explained.\n",
    "After that I decide to take 30 components which have 88% of explained variance ratio and that's good to reduce the number of features which mean less than of half the columns give 88% of information, and that's maybe let modeling process easier and faster."
   ]
  },
  {
   "cell_type": "markdown",
   "metadata": {},
   "source": [
    "### Step 2.3: Interpret Principal Components\n",
    "\n",
    "Now that we have our transformed principal components, it's a nice idea to check out the weight of each variable on the first few components to see if they can be interpreted in some fashion.\n",
    "\n",
    "As a reminder, each principal component is a unit vector that points in the direction of highest variance (after accounting for the variance captured by earlier principal components). The further a weight is from zero, the more the principal component is in the direction of the corresponding feature. If two features have large weights of the same sign (both positive or both negative), then increases in one tend expect to be associated with increases in the other. To contrast, features with different signs can be expected to show a negative correlation: increases in one variable should result in a decrease in the other.\n",
    "\n",
    "- To investigate the features, you should map each weight to their corresponding feature name, then sort the features according to weight. The most interesting features for each principal component, then, will be those at the beginning and end of the sorted list. Use the data dictionary document to help you understand these most prominent features, their relationships, and what a positive or negative value on the principal component might indicate.\n",
    "- You should investigate and interpret feature associations from the first three principal components in this substep. To help facilitate this, you should write a function that you can call at any time to print the sorted list of feature weights, for the *i*-th principal component. This might come in handy in the next step of the project, when you interpret the tendencies of the discovered clusters."
   ]
  },
  {
   "cell_type": "code",
   "execution_count": 12,
   "metadata": {},
   "outputs": [
    {
     "data": {
      "image/png": "[encoded data removed]",
      "text/plain": [
       "<matplotlib.figure.Figure at 0x7f7479b85668>"
      ]
     },
     "metadata": {
      "needs_background": "light"
     },
     "output_type": "display_data"
    }
   ],
   "source": [
    "# Map weights for the first principal component to corresponding feature names\n",
    "# and then print the linked values, sorted by weight.\n",
    "# HINT: Try defining a function here or in a new cell that you can reuse in the\n",
    "# other cells.\n",
    "\n",
    "def plot_weights(df, pca, component):\n",
    "    \n",
    "    comps = pd.DataFrame(np.round(pca.components_, 4), columns=df.keys()).iloc[component-1]\n",
    "    comps.sort_values(ascending=False, inplace=True)\n",
    "    comps = pd.concat([comps.head(4), comps.tail(4)])\n",
    "    \n",
    "    comps.plot(kind='bar')\n",
    "    plt.title('Most 8 weighted features for component [{}]'.format(component))\n",
    "    plt.show()\n",
    "#First component:    \n",
    "plot_weights(clean_azdias, pca, 0)"
   ]
  },
  {
   "cell_type": "code",
   "execution_count": 17,
   "metadata": {},
   "outputs": [
    {
     "data": {
      "image/png": "[encoded data removed]",
      "text/plain": [
       "<matplotlib.figure.Figure at 0x7f1253adf438>"
      ]
     },
     "metadata": {
      "needs_background": "light"
     },
     "output_type": "display_data"
    }
   ],
   "source": [
    "# Map weights for the second principal component to corresponding feature names\n",
    "# and then print the linked values, sorted by weight.\n",
    "plot_weights(clean_azdias, pca, 1)\n"
   ]
  },
  {
   "cell_type": "code",
   "execution_count": 18,
   "metadata": {},
   "outputs": [
    {
     "data": {
      "image/png": "[encoded data removed]",
      "text/plain": [
       "<matplotlib.figure.Figure at 0x7f1253a01400>"
      ]
     },
     "metadata": {
      "needs_background": "light"
     },
     "output_type": "display_data"
    }
   ],
   "source": [
    "# Map weights for the third principal component to corresponding feature names\n",
    "# and then print the linked values, sorted by weight.\n",
    "plot_weights(clean_azdias, pca, 2)\n"
   ]
  },
  {
   "cell_type": "markdown",
   "metadata": {},
   "source": [
    "### Discussion 2.3: Interpret Principal Components\n",
    "\n",
    "(Double-click this cell and replace this text with your own text, reporting your observations from detailed investigation of the first few principal components generated. Can we interpret positive and negative values from them in a meaningful way?)\n",
    "\n",
    "#### Answer:\n",
    "* Component [0]:\n",
    "\n",
    "-- Positive sign features:\n",
    "['SEMIO_MAT'] which means: Personality typology is materialistic and ['FINANZ_HAUSBAUER'] which means: Financial typology is home ownership.\n",
    "\n",
    "-- Nagative sign features:\n",
    "['KONSUMNAEHE'] which means: Distance from building to point of sale (PoS) and ['ONLINE_AFFINITAET'] which means: Online affinity level\n",
    "\n",
    "\n",
    "* Component [1]:\n",
    "\n",
    "-- Positive sign features:\n",
    "['PLZ8_ANTG3'] which means: Number of 6-10 family houses in the PLZ8 region and ['PLZ8_ANTG4'] which means:Number of 10+ family houses in the PLZ8 region.\n",
    "\n",
    "-- Nagative sign features:\n",
    "['MOBI_REGIO'] which means: Movement patterns and ['PLZ8_ANTG1'] which means: Number of 1-2 family houses in the PLZ8 region.\n",
    "\n",
    "* Component [2]:\n",
    "\n",
    "-- Positive sign features:\n",
    "['ALTERSKATEGORIE_GROB'] which means: Estimated age based on given name analysis and ['FINANZ_VORSORGER'] which means:Financial typology is be prepared.\n",
    "\n",
    "-- Nagative sign features:\n",
    "['SEMIO_REL'] which means: Personality typology is religious and ['DECADE'] which means: a period of ten years."
   ]
  },
  {
   "cell_type": "markdown",
   "metadata": {},
   "source": [
    "## Step 3: Clustering\n",
    "\n",
    "### Step 3.1: Apply Clustering to General Population\n",
    "\n",
    "You've assessed and cleaned the demographics data, then scaled and transformed them. Now, it's time to see how the data clusters in the principal components space. In this substep, you will apply k-means clustering to the dataset and use the average within-cluster distances from each point to their assigned cluster's centroid to decide on a number of clusters to keep.\n",
    "\n",
    "- Use sklearn's [KMeans](http://scikit-learn.org/stable/modules/generated/sklearn.cluster.KMeans.html#sklearn.cluster.KMeans) class to perform k-means clustering on the PCA-transformed data.\n",
    "- Then, compute the average difference from each point to its assigned cluster's center. **Hint**: The KMeans object's `.score()` method might be useful here, but note that in sklearn, scores tend to be defined so that larger is better. Try applying it to a small, toy dataset, or use an internet search to help your understanding.\n",
    "- Perform the above two steps for a number of different cluster counts. You can then see how the average distance decreases with an increasing number of clusters. However, each additional cluster provides a smaller net benefit. Use this fact to select a final number of clusters in which to group the data. **Warning**: because of the large size of the dataset, it can take a long time for the algorithm to resolve. The more clusters to fit, the longer the algorithm will take. You should test for cluster counts through at least 10 clusters to get the full picture, but you shouldn't need to test for a number of clusters above about 30.\n",
    "- Once you've selected a final number of clusters to use, re-fit a KMeans instance to perform the clustering operation. Make sure that you also obtain the cluster assignments for the general demographics data, since you'll be using them in the final Step 3.3."
   ]
  },
  {
   "cell_type": "code",
   "execution_count": 20,
   "metadata": {},
   "outputs": [],
   "source": [
    "# Over a number of different cluster counts...\n",
    "\n",
    "\n",
    "    # run k-means clustering on the data and...\n",
    "    \n",
    "    \n",
    "    # compute the average within-cluster distances.\n",
    "from sklearn.cluster import KMeans\n",
    "def get_kmeans_score(data, center):\n",
    "    '''\n",
    "    returns the kmeans score regarding SSE for points to centers\n",
    "    INPUT:\n",
    "        data - the dataset you want to fit kmeans to\n",
    "        center - the number of centers you want (the k value)\n",
    "    OUTPUT:\n",
    "        score - the SSE score for the kmeans model fit to the data\n",
    "    '''\n",
    "    #instantiate kmeans\n",
    "    kmeans = KMeans(n_clusters=center)\n",
    "\n",
    "    # Then fit the model to your data using the fit method\n",
    "    model = kmeans.fit(data)\n",
    "    \n",
    "    # Obtain a score related to the model fit\n",
    "    score = np.abs(model.score(data))\n",
    "    \n",
    "    return score\n"
   ]
  },
  {
   "cell_type": "code",
   "execution_count": 21,
   "metadata": {},
   "outputs": [
    {
     "data": {
      "image/png": "[encoded data removed]",
      "text/plain": [
       "<matplotlib.figure.Figure at 0x7fee6890ba20>"
      ]
     },
     "metadata": {
      "needs_background": "light"
     },
     "output_type": "display_data"
    }
   ],
   "source": [
    "# Investigate the change in within-cluster distance across number of clusters.\n",
    "# HINT: Use matplotlib's plot function to visualize this relationship.\n",
    "scores = []\n",
    "centers = list(range(1,20))\n",
    "\n",
    "for center in centers:\n",
    "    scores.append(get_kmeans_score(pca_df, center))\n",
    "    \n",
    "plt.plot(centers, scores, linestyle='--', marker='o', color='b');\n",
    "plt.xlabel('K');\n",
    "plt.ylabel('SSE');\n",
    "plt.title('SSE vs. K');    \n"
   ]
  },
  {
   "cell_type": "code",
   "execution_count": 17,
   "metadata": {},
   "outputs": [],
   "source": [
    "# Re-fit the k-means model with the selected number of clusters and obtain\n",
    "# cluster predictions for the general population demographics data.\n",
    "from sklearn.cluster import KMeans\n",
    "#build the model:\n",
    "#intiate a model with  k cluster\n",
    "kmeans = KMeans(n_clusters=14)\n",
    "\n",
    "# Then fit the model to your data using the fit method\n",
    "model = kmeans.fit(pca_df)\n",
    "\n",
    "# Finally get the labels on the same data to show the cluster/group for each point point that belongs to\n",
    "demo_pre = model.predict(pca_df)\n"
   ]
  },
  {
   "cell_type": "code",
   "execution_count": 18,
   "metadata": {},
   "outputs": [
    {
     "data": {
      "text/plain": [
       "array([ 8,  3, 11, ...,  7,  6,  0], dtype=int32)"
      ]
     },
     "execution_count": 18,
     "metadata": {},
     "output_type": "execute_result"
    }
   ],
   "source": [
    "demo_pre"
   ]
  },
  {
   "cell_type": "code",
   "execution_count": 19,
   "metadata": {},
   "outputs": [
    {
     "data": {
      "image/png": "[encoded data removed]",
      "text/plain": [
       "<matplotlib.figure.Figure at 0x7f746c2fcc50>"
      ]
     },
     "metadata": {
      "needs_background": "light"
     },
     "output_type": "display_data"
    }
   ],
   "source": [
    "#plotting \n",
    "# Plot the original data with clusters\n",
    "plt.scatter(pca_df[:,0], pca_df[:,1], c=demo_pre, cmap='Set1');"
   ]
  },
  {
   "cell_type": "markdown",
   "metadata": {},
   "source": [
    "### Discussion 3.1: Apply Clustering to General Population\n",
    "\n",
    "(Double-click this cell and replace this text with your own text, reporting your findings and decisions regarding clustering. Into how many clusters have you decided to segment the population?)\n",
    "\n",
    "#### Answer:\n",
    "After I did plotting for elbow method I found 14 clusters is a good choice to clustering the data."
   ]
  },
  {
   "cell_type": "markdown",
   "metadata": {},
   "source": [
    "### Step 3.2: Apply All Steps to the Customer Data\n",
    "\n",
    "Now that you have clusters and cluster centers for the general population, it's time to see how the customer data maps on to those clusters. Take care to not confuse this for re-fitting all of the models to the customer data. Instead, you're going to use the fits from the general population to clean, transform, and cluster the customer data. In the last step of the project, you will interpret how the general population fits apply to the customer data.\n",
    "\n",
    "- Don't forget when loading in the customers data, that it is semicolon (`;`) delimited.\n",
    "- Apply the same feature wrangling, selection, and engineering steps to the customer demographics using the `clean_data()` function you created earlier. (You can assume that the customer demographics data has similar meaning behind missing data patterns as the general demographics data.)\n",
    "- Use the sklearn objects from the general demographics data, and apply their transformations to the customers data. That is, you should not be using a `.fit()` or `.fit_transform()` method to re-fit the old objects, nor should you be creating new sklearn objects! Carry the data through the feature scaling, PCA, and clustering steps, obtaining cluster assignments for all of the data in the customer demographics data."
   ]
  },
  {
   "cell_type": "code",
   "execution_count": 20,
   "metadata": {},
   "outputs": [],
   "source": [
    "# Load in the customer demographics data.\n",
    "customers = pd.read_csv('Udacity_CUSTOMERS_Subset.csv', sep=';')"
   ]
  },
  {
   "cell_type": "code",
   "execution_count": 21,
   "metadata": {},
   "outputs": [
    {
     "data": {
      "text/plain": [
       "(191652, 85)"
      ]
     },
     "execution_count": 21,
     "metadata": {},
     "output_type": "execute_result"
    }
   ],
   "source": [
    "customers.shape"
   ]
  },
  {
   "cell_type": "code",
   "execution_count": 22,
   "metadata": {},
   "outputs": [
    {
     "name": "stdout",
     "output_type": "stream",
     "text": [
      "binary variables are:\n",
      "ANREDE_KZ [ 1.  2.]\n",
      "GREEN_AVANTGARDE [1 0]\n",
      "SOHO_KZ [ 0.  1.]\n",
      "VERS_TYP [  1.   2.  nan]\n",
      "OST_WEST_KZ ['W' 'O']\n",
      "\n",
      " multi-level variables are:\n",
      "CJT_GESAMTTYP [  5.   2.   6.   4.   1.   3.  nan]\n",
      "FINANZTYP [ 2.  6.  5.  3.  1.  4.]\n",
      "GFK_URLAUBERTYP [  4.   3.  10.   2.  11.   8.   1.   5.   9.  12.   7.   6.  nan]\n",
      "LP_FAMILIE_FEIN [  2.   1.  nan  10.   8.   6.  11.   9.   7.   5.   3.   4.]\n",
      "LP_FAMILIE_GROB [  2.   1.  nan   5.   4.   3.]\n",
      "LP_STATUS_FEIN [ 10.   9.   1.   7.   6.   3.   8.   5.   4.   2.  nan]\n",
      "LP_STATUS_GROB [  5.   4.   1.   3.   2.  nan]\n",
      "NATIONALITAET_KZ [  1.   2.  nan   3.]\n",
      "SHOPPER_TYP [  3.   1.   0.   2.  nan]\n",
      "ZABEOTYP [ 3.  1.  2.  4.  6.  5.]\n",
      "GEBAEUDETYP [ 1.  8.  2.  3.  4.  6.]\n",
      "CAMEO_DEUG_2015 ['1' '5' '4' '7' '3' '9' '2' '6' '8' nan]\n",
      "CAMEO_DEU_2015 ['1A' '5D' '4C' '7B' '3B' '1D' '9E' '2D' '4A' '6B' '9D' '8B' '5C' '9C' '4E'\n",
      " '6C' '8C' '8A' '5B' '9B' '3D' '2A' '3C' '5F' '7A' '1E' '2C' '7C' '5A' '2B'\n",
      " '6D' '7E' '5E' '6E' '3A' '9A' '4B' '1C' '1B' '6A' '8D' '7D' '6F' nan '4D']\n",
      "mixed columns are: \n",
      " 15      LP_LEBENSPHASE_FEIN\n",
      "16      LP_LEBENSPHASE_GROB\n",
      "22    PRAEGENDE_JUGENDJAHRE\n",
      "56                 WOHNLAGE\n",
      "59          CAMEO_INTL_2015\n",
      "64             KBA05_BAUMAX\n",
      "79              PLZ8_BAUMAX\n",
      "Name: attribute, dtype: object\n"
     ]
    }
   ],
   "source": [
    "# Apply preprocessing, feature transformation, and clustering from the general\n",
    "# demographics onto the customer data, obtaining cluster predictions for the\n",
    "# customer demographics data.\n",
    "customers_clean = clean_data(customers)\n"
   ]
  },
  {
   "cell_type": "code",
   "execution_count": 23,
   "metadata": {},
   "outputs": [
    {
     "data": {
      "text/plain": [
       "(141713, 64)"
      ]
     },
     "execution_count": 23,
     "metadata": {},
     "output_type": "execute_result"
    }
   ],
   "source": [
    "customers_clean.shape"
   ]
  },
  {
   "cell_type": "code",
   "execution_count": 24,
   "metadata": {},
   "outputs": [
    {
     "data": {
      "text/plain": [
       "0"
      ]
     },
     "execution_count": 24,
     "metadata": {},
     "output_type": "execute_result"
    }
   ],
   "source": [
    "#imputer\n",
    "imputer = Imputer(missing_values='NaN', strategy='mean', axis=0 )\n",
    "imputed_customers = pd.DataFrame(imputer.fit_transform(customers_clean), columns=customers_clean.columns)\n",
    "\n",
    "imputed_customers.isnull().sum().sum()"
   ]
  },
  {
   "cell_type": "code",
   "execution_count": 25,
   "metadata": {},
   "outputs": [
    {
     "data": {
      "text/plain": [
       "array([12,  3, 10, ..., 12, 11, 10], dtype=int32)"
      ]
     },
     "execution_count": 25,
     "metadata": {},
     "output_type": "execute_result"
    }
   ],
   "source": [
    "#Scaller\n",
    "#from sklearn.preprocessing import StandardScaler\n",
    "#cus_ss = StandardScaler()\n",
    "#scaled_customers = pd.DataFrame(cus_ss.fit_transform(imputed_customers), columns=imputed_customers.columns)\n",
    "##Modified\n",
    "\n",
    "scaled_customers = ss.transform(imputed_customers)\n",
    "\n",
    "#pca\n",
    "pca_customers = pca.transform(scaled_customers)\n",
    "#pca_customers = pca.fit_transform(scaled_customers)\n",
    "\n",
    "#prediction\n",
    "pre_customers = kmeans.predict(pca_customers)\n",
    "pre_customers"
   ]
  },
  {
   "cell_type": "code",
   "execution_count": 26,
   "metadata": {},
   "outputs": [
    {
     "data": {
      "text/plain": [
       "1115816"
      ]
     },
     "execution_count": 26,
     "metadata": {},
     "output_type": "execute_result"
    }
   ],
   "source": [
    "pre_customers.sum()"
   ]
  },
  {
   "cell_type": "code",
   "execution_count": 27,
   "metadata": {},
   "outputs": [
    {
     "data": {
      "text/plain": [
       "4810506"
      ]
     },
     "execution_count": 27,
     "metadata": {},
     "output_type": "execute_result"
    }
   ],
   "source": [
    "demo_pre.sum()"
   ]
  },
  {
   "cell_type": "code",
   "execution_count": 28,
   "metadata": {},
   "outputs": [
    {
     "data": {
      "image/png": "[encoded data removed]",
      "text/plain": [
       "<matplotlib.figure.Figure at 0x7f746aa17668>"
      ]
     },
     "metadata": {
      "needs_background": "light"
     },
     "output_type": "display_data"
    }
   ],
   "source": [
    "plt.scatter(pca_customers[:,0], pca_customers[:,1], c=pre_customers, cmap='Set1');"
   ]
  },
  {
   "cell_type": "markdown",
   "metadata": {},
   "source": [
    "### Step 3.3: Compare Customer Data to Demographics Data\n",
    "\n",
    "At this point, you have clustered data based on demographics of the general population of Germany, and seen how the customer data for a mail-order sales company maps onto those demographic clusters. In this final substep, you will compare the two cluster distributions to see where the strongest customer base for the company is.\n",
    "\n",
    "Consider the proportion of persons in each cluster for the general population, and the proportions for the customers. If we think the company's customer base to be universal, then the cluster assignment proportions should be fairly similar between the two. If there are only particular segments of the population that are interested in the company's products, then we should see a mismatch from one to the other. If there is a higher proportion of persons in a cluster for the customer data compared to the general population (e.g. 5% of persons are assigned to a cluster for the general population, but 15% of the customer data is closest to that cluster's centroid) then that suggests the people in that cluster to be a target audience for the company. On the other hand, the proportion of the data in a cluster being larger in the general population than the customer data (e.g. only 2% of customers closest to a population centroid that captures 6% of the data) suggests that group of persons to be outside of the target demographics.\n",
    "\n",
    "Take a look at the following points in this step:\n",
    "\n",
    "- Compute the proportion of data points in each cluster for the general population and the customer data. Visualizations will be useful here: both for the individual dataset proportions, but also to visualize the ratios in cluster representation between groups. Seaborn's [`countplot()`](https://seaborn.pydata.org/generated/seaborn.countplot.html) or [`barplot()`](https://seaborn.pydata.org/generated/seaborn.barplot.html) function could be handy.\n",
    "  - Recall the analysis you performed in step 1.1.3 of the project, where you separated out certain data points from the dataset if they had more than a specified threshold of missing values. If you found that this group was qualitatively different from the main bulk of the data, you should treat this as an additional data cluster in this analysis. Make sure that you account for the number of data points in this subset, for both the general population and customer datasets, when making your computations!\n",
    "- Which cluster or clusters are overrepresented in the customer dataset compared to the general population? Select at least one such cluster and infer what kind of people might be represented by that cluster. Use the principal component interpretations from step 2.3 or look at additional components to help you make this inference. Alternatively, you can use the `.inverse_transform()` method of the PCA and StandardScaler objects to transform centroids back to the original data space and interpret the retrieved values directly.\n",
    "- Perform a similar investigation for the underrepresented clusters. Which cluster or clusters are underrepresented in the customer dataset compared to the general population, and what kinds of people are typified by these clusters?"
   ]
  },
  {
   "cell_type": "code",
   "execution_count": 29,
   "metadata": {},
   "outputs": [
    {
     "data": {
      "image/png": "[encoded data removed]",
      "text/plain": [
       "<matplotlib.figure.Figure at 0x7f746c2ca208>"
      ]
     },
     "metadata": {
      "needs_background": "light"
     },
     "output_type": "display_data"
    }
   ],
   "source": [
    "\n",
    "plt.figure(figsize = (10,5))\n",
    "x1 = plt.subplot(1, 2, 1)\n",
    "plt.title('Proportion of Demographics Data for each Cluster')\n",
    "sns.countplot(demo_pre, ax=x1)\n",
    "    \n",
    "x2 = plt.subplot(1, 2, 2)\n",
    "plt.title('Proportion of Customers Data for each Cluster')\n",
    "sns.countplot(pre_customers, ax=x2)\n",
    "    \n",
    "plt.subplots_adjust(wspace=0.5)\n",
    "plt.show()\n"
   ]
  },
  {
   "cell_type": "code",
   "execution_count": 31,
   "metadata": {},
   "outputs": [
    {
     "data": {
      "text/plain": [
       "FINANZ_MINIMALIST       4.835420\n",
       "FINANZ_VORSORGER        4.167414\n",
       "ALTERSKATEGORIE_GROB    3.295321\n",
       "FINANZ_SPARER           1.648874\n",
       "ANREDE_KZ               1.053872\n",
       "dtype: float64"
      ]
     },
     "execution_count": 31,
     "metadata": {},
     "output_type": "execute_result"
    }
   ],
   "source": [
    "# What kinds of people are part of a cluster that is overrepresented in the\n",
    "# customer data compared to the general population?\n",
    "over_center = ss.inverse_transform(pca.inverse_transform(kmeans.cluster_centers_[12]))\n",
    "overrepresented = pd.Series(over_center, index=list(customers_clean))\n",
    "overrepresented.head().sort_values(ascending=False)"
   ]
  },
  {
   "cell_type": "code",
   "execution_count": 32,
   "metadata": {},
   "outputs": [
    {
     "data": {
      "text/plain": [
       "FINANZ_SPARER           4.271542\n",
       "FINANZ_VORSORGER        2.197601\n",
       "ANREDE_KZ               2.013077\n",
       "ALTERSKATEGORIE_GROB    1.505040\n",
       "FINANZ_MINIMALIST       1.200645\n",
       "dtype: float64"
      ]
     },
     "execution_count": 32,
     "metadata": {},
     "output_type": "execute_result"
    }
   ],
   "source": [
    "# What kinds of people are part of a cluster that is underrepresented in the\n",
    "# customer data compared to the general population?\n",
    "under_center = ss.inverse_transform(pca.inverse_transform(kmeans.cluster_centers_[5]))\n",
    "underrepresented = pd.Series(under_center, index=list(customers_clean))\n",
    "underrepresented.head().sort_values(ascending=False)"
   ]
  },
  {
   "cell_type": "markdown",
   "metadata": {},
   "source": [
    "### Discussion 3.3: Compare Customer Data to Demographics Data\n",
    "\n",
    "(Double-click this cell and replace this text with your own text, reporting findings and conclusions from the clustering analysis. Can we describe segments of the population that are relatively popular with the mail-order company, or relatively unpopular with the company?)\n",
    "\n",
    "#### Answer:\n",
    "* I found cluster 6 is high presented which has these head featurs: \n",
    "\n",
    "FINANZ_MINIMALIST       4.835420\n",
    "\n",
    "FINANZ_VORSORGER        4.167414\n",
    "\n",
    "ALTERSKATEGORIE_GROB    3.295321\n",
    "\n",
    "FINANZ_SPARER           1.648874\n",
    "\n",
    "ANREDE_KZ               1.053872\n",
    "\n",
    "\n",
    "That people who (male) and have thses financial typology (very low- low financial interest , high- money-saver, and low- be prepared), also based on estimated age based on given name analysis who (between 46 and 60 years old) most popular with mail-order company.\n",
    "\n",
    "* And I found cluster 8 is low presented which has these head featurs: \n",
    "\n",
    "FINANZ_SPARER           4.271542\n",
    "\n",
    "FINANZ_VORSORGER        2.197601\n",
    "\n",
    "ANREDE_KZ               2.013077\n",
    "\n",
    "ALTERSKATEGORIE_GROB    1.505040\n",
    "\n",
    "FINANZ_MINIMALIST       1.200645\n",
    "\n",
    "That people who (female) and have thses financial typology (very high- low financial interest , low- money-saver, and high- be prepared), also based on estimated age based on given name analysis who (less than 30 years old) most popular with mail-order company."
   ]
  },
  {
   "cell_type": "markdown",
   "metadata": {},
   "source": [
    "> Congratulations on making it this far in the project! Before you finish, make sure to check through the entire notebook from top to bottom to make sure that your analysis follows a logical flow and all of your findings are documented in **Discussion** cells. Once you've checked over all of your work, you should export the notebook as an HTML document to submit for evaluation. You can do this from the menu, navigating to **File -> Download as -> HTML (.html)**. You will submit both that document and this notebook for your project submission."
   ]
  },
  {
   "cell_type": "code",
   "execution_count": null,
   "metadata": {},
   "outputs": [],
   "source": []
  }
 ],
 "metadata": {
  "kernelspec": {
   "display_name": "Python 3",
   "language": "python",
   "name": "python3"
  },
  "language_info": {
   "codemirror_mode": {
    "name": "ipython",
    "version": 3
   },
   "file_extension": ".py",
   "mimetype": "text/x-python",
   "name": "python",
   "nbconvert_exporter": "python",
   "pygments_lexer": "ipython3",
   "version": "3.6.3"
  }
 },
 "nbformat": 4,
 "nbformat_minor": 2
}
